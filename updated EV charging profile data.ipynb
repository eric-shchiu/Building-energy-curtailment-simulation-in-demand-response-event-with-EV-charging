{
 "cells": [
  {
   "cell_type": "code",
   "execution_count": 23,
   "id": "659b9383",
   "metadata": {},
   "outputs": [],
   "source": [
    "import pandas as pd\n",
    "import numpy as np\n",
    "import matplotlib.pyplot as plt\n",
    "import statsmodels.api as sm\n",
    "import statsmodels.formula.api as smf\n",
    "import seaborn as sns"
   ]
  },
  {
   "cell_type": "code",
   "execution_count": 24,
   "id": "46c18f16",
   "metadata": {},
   "outputs": [],
   "source": [
    "EV = pd.read_csv('EV charging data.csv')"
   ]
  },
  {
   "cell_type": "code",
   "execution_count": 25,
   "id": "a2c10054",
   "metadata": {},
   "outputs": [
    {
     "data": {
      "text/html": [
       "<div>\n",
       "<style scoped>\n",
       "    .dataframe tbody tr th:only-of-type {\n",
       "        vertical-align: middle;\n",
       "    }\n",
       "\n",
       "    .dataframe tbody tr th {\n",
       "        vertical-align: top;\n",
       "    }\n",
       "\n",
       "    .dataframe thead th {\n",
       "        text-align: right;\n",
       "    }\n",
       "</style>\n",
       "<table border=\"1\" class=\"dataframe\">\n",
       "  <thead>\n",
       "    <tr style=\"text-align: right;\">\n",
       "      <th></th>\n",
       "      <th>session_ID</th>\n",
       "      <th>Garage_ID</th>\n",
       "      <th>User_ID</th>\n",
       "      <th>User_type</th>\n",
       "      <th>Shared_ID</th>\n",
       "      <th>Start_plugin</th>\n",
       "      <th>Start_plugin_hour</th>\n",
       "      <th>End_plugout</th>\n",
       "      <th>End_plugout_hour</th>\n",
       "      <th>El_kWh</th>\n",
       "      <th>Duration_hours</th>\n",
       "      <th>month_plugin</th>\n",
       "      <th>weekdays_plugin</th>\n",
       "      <th>Plugin_category</th>\n",
       "      <th>Duration_category</th>\n",
       "    </tr>\n",
       "  </thead>\n",
       "  <tbody>\n",
       "    <tr>\n",
       "      <th>1</th>\n",
       "      <td>1</td>\n",
       "      <td>AdO3</td>\n",
       "      <td>AdO3-4</td>\n",
       "      <td>Private</td>\n",
       "      <td>NaN</td>\n",
       "      <td>21.12.2018 10:20</td>\n",
       "      <td>10</td>\n",
       "      <td>21.12.2018 10:23</td>\n",
       "      <td>10</td>\n",
       "      <td>0.3</td>\n",
       "      <td>0.05</td>\n",
       "      <td>Dec</td>\n",
       "      <td>Friday</td>\n",
       "      <td>late morning (9-12)</td>\n",
       "      <td>Less than 3 hours</td>\n",
       "    </tr>\n",
       "    <tr>\n",
       "      <th>2</th>\n",
       "      <td>2</td>\n",
       "      <td>AdO3</td>\n",
       "      <td>AdO3-4</td>\n",
       "      <td>Private</td>\n",
       "      <td>NaN</td>\n",
       "      <td>21.12.2018 10:24</td>\n",
       "      <td>10</td>\n",
       "      <td>21.12.2018 10:32</td>\n",
       "      <td>10</td>\n",
       "      <td>0.87</td>\n",
       "      <td>0.136666667</td>\n",
       "      <td>Dec</td>\n",
       "      <td>Friday</td>\n",
       "      <td>late morning (9-12)</td>\n",
       "      <td>Less than 3 hours</td>\n",
       "    </tr>\n",
       "    <tr>\n",
       "      <th>3</th>\n",
       "      <td>3</td>\n",
       "      <td>AdO3</td>\n",
       "      <td>AdO3-4</td>\n",
       "      <td>Private</td>\n",
       "      <td>NaN</td>\n",
       "      <td>21.12.2018 11:33</td>\n",
       "      <td>11</td>\n",
       "      <td>21.12.2018 19:46</td>\n",
       "      <td>19</td>\n",
       "      <td>29.87</td>\n",
       "      <td>8.216388889</td>\n",
       "      <td>Dec</td>\n",
       "      <td>Friday</td>\n",
       "      <td>late morning (9-12)</td>\n",
       "      <td>Between 6 and 9  hours</td>\n",
       "    </tr>\n",
       "    <tr>\n",
       "      <th>4</th>\n",
       "      <td>4</td>\n",
       "      <td>AdO3</td>\n",
       "      <td>AdO3-2</td>\n",
       "      <td>Private</td>\n",
       "      <td>NaN</td>\n",
       "      <td>22.12.2018 16:15</td>\n",
       "      <td>16</td>\n",
       "      <td>23.12.2018 16:40</td>\n",
       "      <td>16</td>\n",
       "      <td>15.56</td>\n",
       "      <td>24.41972222</td>\n",
       "      <td>Dec</td>\n",
       "      <td>Saturday</td>\n",
       "      <td>late afternoon (15-18)</td>\n",
       "      <td>More than 18 hours</td>\n",
       "    </tr>\n",
       "    <tr>\n",
       "      <th>5</th>\n",
       "      <td>5</td>\n",
       "      <td>AdO3</td>\n",
       "      <td>AdO3-2</td>\n",
       "      <td>Private</td>\n",
       "      <td>NaN</td>\n",
       "      <td>24.12.2018 22:03</td>\n",
       "      <td>22</td>\n",
       "      <td>24.12.2018 23:02</td>\n",
       "      <td>23</td>\n",
       "      <td>3.62</td>\n",
       "      <td>0.970555556</td>\n",
       "      <td>Dec</td>\n",
       "      <td>Monday</td>\n",
       "      <td>late evening (21-midnight)</td>\n",
       "      <td>Less than 3 hours</td>\n",
       "    </tr>\n",
       "  </tbody>\n",
       "</table>\n",
       "</div>"
      ],
      "text/plain": [
       "  session_ID Garage_ID User_ID User_type Shared_ID      Start_plugin  \\\n",
       "1          1      AdO3  AdO3-4   Private       NaN  21.12.2018 10:20   \n",
       "2          2      AdO3  AdO3-4   Private       NaN  21.12.2018 10:24   \n",
       "3          3      AdO3  AdO3-4   Private       NaN  21.12.2018 11:33   \n",
       "4          4      AdO3  AdO3-2   Private       NaN  22.12.2018 16:15   \n",
       "5          5      AdO3  AdO3-2   Private       NaN  24.12.2018 22:03   \n",
       "\n",
       "  Start_plugin_hour       End_plugout End_plugout_hour El_kWh Duration_hours  \\\n",
       "1                10  21.12.2018 10:23               10    0.3           0.05   \n",
       "2                10  21.12.2018 10:32               10   0.87    0.136666667   \n",
       "3                11  21.12.2018 19:46               19  29.87    8.216388889   \n",
       "4                16  23.12.2018 16:40               16  15.56    24.41972222   \n",
       "5                22  24.12.2018 23:02               23   3.62    0.970555556   \n",
       "\n",
       "  month_plugin weekdays_plugin             Plugin_category  \\\n",
       "1          Dec          Friday         late morning (9-12)   \n",
       "2          Dec          Friday         late morning (9-12)   \n",
       "3          Dec          Friday         late morning (9-12)   \n",
       "4          Dec        Saturday      late afternoon (15-18)   \n",
       "5          Dec          Monday  late evening (21-midnight)   \n",
       "\n",
       "        Duration_category  \n",
       "1       Less than 3 hours  \n",
       "2       Less than 3 hours  \n",
       "3  Between 6 and 9  hours  \n",
       "4      More than 18 hours  \n",
       "5       Less than 3 hours  "
      ]
     },
     "execution_count": 25,
     "metadata": {},
     "output_type": "execute_result"
    }
   ],
   "source": [
    "EV = EV.rename(columns = EV.iloc[0]).loc[1:]\n",
    "EV.head()"
   ]
  },
  {
   "cell_type": "code",
   "execution_count": 26,
   "id": "2ac43c82",
   "metadata": {},
   "outputs": [],
   "source": [
    "d_month = {'Jan':1, 'Feb':2, 'Mar':3, 'Apr':4, 'May':5, 'Jun':6, 'Jul':7, 'Aug':8, 'Sep':9, 'Oct':10, 'Nov':11, 'Dec':12}\n",
    "EV['month_plugin'] = EV['month_plugin'].map(d_month)\n"
   ]
  },
  {
   "cell_type": "code",
   "execution_count": 27,
   "id": "6bd3b926",
   "metadata": {},
   "outputs": [
    {
     "data": {
      "text/html": [
       "<div>\n",
       "<style scoped>\n",
       "    .dataframe tbody tr th:only-of-type {\n",
       "        vertical-align: middle;\n",
       "    }\n",
       "\n",
       "    .dataframe tbody tr th {\n",
       "        vertical-align: top;\n",
       "    }\n",
       "\n",
       "    .dataframe thead th {\n",
       "        text-align: right;\n",
       "    }\n",
       "</style>\n",
       "<table border=\"1\" class=\"dataframe\">\n",
       "  <thead>\n",
       "    <tr style=\"text-align: right;\">\n",
       "      <th></th>\n",
       "      <th>session_ID</th>\n",
       "      <th>Garage_ID</th>\n",
       "      <th>User_ID</th>\n",
       "      <th>User_type</th>\n",
       "      <th>Shared_ID</th>\n",
       "      <th>Start_plugin</th>\n",
       "      <th>Start_plugin_hour</th>\n",
       "      <th>End_plugout</th>\n",
       "      <th>End_plugout_hour</th>\n",
       "      <th>El_kWh</th>\n",
       "      <th>Duration_hours</th>\n",
       "      <th>month_plugin</th>\n",
       "      <th>weekdays_plugin</th>\n",
       "      <th>Plugin_category</th>\n",
       "      <th>Duration_category</th>\n",
       "    </tr>\n",
       "  </thead>\n",
       "  <tbody>\n",
       "    <tr>\n",
       "      <th>1</th>\n",
       "      <td>1</td>\n",
       "      <td>AdO3</td>\n",
       "      <td>AdO3-4</td>\n",
       "      <td>Private</td>\n",
       "      <td>NaN</td>\n",
       "      <td>21.12.2018 10:20</td>\n",
       "      <td>10</td>\n",
       "      <td>21.12.2018 10:23</td>\n",
       "      <td>10</td>\n",
       "      <td>0.3</td>\n",
       "      <td>0.05</td>\n",
       "      <td>12</td>\n",
       "      <td>Friday</td>\n",
       "      <td>late morning (9-12)</td>\n",
       "      <td>Less than 3 hours</td>\n",
       "    </tr>\n",
       "    <tr>\n",
       "      <th>2</th>\n",
       "      <td>2</td>\n",
       "      <td>AdO3</td>\n",
       "      <td>AdO3-4</td>\n",
       "      <td>Private</td>\n",
       "      <td>NaN</td>\n",
       "      <td>21.12.2018 10:24</td>\n",
       "      <td>10</td>\n",
       "      <td>21.12.2018 10:32</td>\n",
       "      <td>10</td>\n",
       "      <td>0.87</td>\n",
       "      <td>0.136666667</td>\n",
       "      <td>12</td>\n",
       "      <td>Friday</td>\n",
       "      <td>late morning (9-12)</td>\n",
       "      <td>Less than 3 hours</td>\n",
       "    </tr>\n",
       "    <tr>\n",
       "      <th>3</th>\n",
       "      <td>3</td>\n",
       "      <td>AdO3</td>\n",
       "      <td>AdO3-4</td>\n",
       "      <td>Private</td>\n",
       "      <td>NaN</td>\n",
       "      <td>21.12.2018 11:33</td>\n",
       "      <td>11</td>\n",
       "      <td>21.12.2018 19:46</td>\n",
       "      <td>19</td>\n",
       "      <td>29.87</td>\n",
       "      <td>8.216388889</td>\n",
       "      <td>12</td>\n",
       "      <td>Friday</td>\n",
       "      <td>late morning (9-12)</td>\n",
       "      <td>Between 6 and 9  hours</td>\n",
       "    </tr>\n",
       "    <tr>\n",
       "      <th>4</th>\n",
       "      <td>4</td>\n",
       "      <td>AdO3</td>\n",
       "      <td>AdO3-2</td>\n",
       "      <td>Private</td>\n",
       "      <td>NaN</td>\n",
       "      <td>22.12.2018 16:15</td>\n",
       "      <td>16</td>\n",
       "      <td>23.12.2018 16:40</td>\n",
       "      <td>16</td>\n",
       "      <td>15.56</td>\n",
       "      <td>24.41972222</td>\n",
       "      <td>12</td>\n",
       "      <td>Saturday</td>\n",
       "      <td>late afternoon (15-18)</td>\n",
       "      <td>More than 18 hours</td>\n",
       "    </tr>\n",
       "    <tr>\n",
       "      <th>5</th>\n",
       "      <td>5</td>\n",
       "      <td>AdO3</td>\n",
       "      <td>AdO3-2</td>\n",
       "      <td>Private</td>\n",
       "      <td>NaN</td>\n",
       "      <td>24.12.2018 22:03</td>\n",
       "      <td>22</td>\n",
       "      <td>24.12.2018 23:02</td>\n",
       "      <td>23</td>\n",
       "      <td>3.62</td>\n",
       "      <td>0.970555556</td>\n",
       "      <td>12</td>\n",
       "      <td>Monday</td>\n",
       "      <td>late evening (21-midnight)</td>\n",
       "      <td>Less than 3 hours</td>\n",
       "    </tr>\n",
       "    <tr>\n",
       "      <th>...</th>\n",
       "      <td>...</td>\n",
       "      <td>...</td>\n",
       "      <td>...</td>\n",
       "      <td>...</td>\n",
       "      <td>...</td>\n",
       "      <td>...</td>\n",
       "      <td>...</td>\n",
       "      <td>...</td>\n",
       "      <td>...</td>\n",
       "      <td>...</td>\n",
       "      <td>...</td>\n",
       "      <td>...</td>\n",
       "      <td>...</td>\n",
       "      <td>...</td>\n",
       "      <td>...</td>\n",
       "    </tr>\n",
       "    <tr>\n",
       "      <th>6874</th>\n",
       "      <td>6874</td>\n",
       "      <td>UT15</td>\n",
       "      <td>UT15-2</td>\n",
       "      <td>Private</td>\n",
       "      <td>NaN</td>\n",
       "      <td>31.01.2020 17:57</td>\n",
       "      <td>17</td>\n",
       "      <td>31.01.2020 22:29</td>\n",
       "      <td>22</td>\n",
       "      <td>13.43</td>\n",
       "      <td>4.53</td>\n",
       "      <td>1</td>\n",
       "      <td>Friday</td>\n",
       "      <td>late afternoon (15-18)</td>\n",
       "      <td>Between 3 and 6 hours</td>\n",
       "    </tr>\n",
       "    <tr>\n",
       "      <th>6875</th>\n",
       "      <td>6875</td>\n",
       "      <td>AsO10</td>\n",
       "      <td>AsO10-1</td>\n",
       "      <td>Private</td>\n",
       "      <td>NaN</td>\n",
       "      <td>31.01.2020 18:32</td>\n",
       "      <td>18</td>\n",
       "      <td>31.01.2020 21:43</td>\n",
       "      <td>21</td>\n",
       "      <td>9.1</td>\n",
       "      <td>3.182222222</td>\n",
       "      <td>1</td>\n",
       "      <td>Friday</td>\n",
       "      <td>early evening (18-21)</td>\n",
       "      <td>Between 3 and 6 hours</td>\n",
       "    </tr>\n",
       "    <tr>\n",
       "      <th>6876</th>\n",
       "      <td>6876</td>\n",
       "      <td>Bl2</td>\n",
       "      <td>Bl2-1</td>\n",
       "      <td>Private</td>\n",
       "      <td>NaN</td>\n",
       "      <td>31.01.2020 19:25</td>\n",
       "      <td>19</td>\n",
       "      <td>31.01.2020 20:37</td>\n",
       "      <td>20</td>\n",
       "      <td>4.28</td>\n",
       "      <td>1.203888889</td>\n",
       "      <td>1</td>\n",
       "      <td>Friday</td>\n",
       "      <td>early evening (18-21)</td>\n",
       "      <td>Less than 3 hours</td>\n",
       "    </tr>\n",
       "    <tr>\n",
       "      <th>6877</th>\n",
       "      <td>6877</td>\n",
       "      <td>UT7</td>\n",
       "      <td>UT7-1</td>\n",
       "      <td>Private</td>\n",
       "      <td>NaN</td>\n",
       "      <td>31.01.2020 19:27</td>\n",
       "      <td>19</td>\n",
       "      <td>31.01.2020 19:48</td>\n",
       "      <td>19</td>\n",
       "      <td>2.31</td>\n",
       "      <td>0.3525</td>\n",
       "      <td>1</td>\n",
       "      <td>Friday</td>\n",
       "      <td>early evening (18-21)</td>\n",
       "      <td>Less than 3 hours</td>\n",
       "    </tr>\n",
       "    <tr>\n",
       "      <th>6878</th>\n",
       "      <td>6878</td>\n",
       "      <td>Bl2</td>\n",
       "      <td>Share-7</td>\n",
       "      <td>Shared</td>\n",
       "      <td>Shared-7</td>\n",
       "      <td>31.01.2020 20:42</td>\n",
       "      <td>20</td>\n",
       "      <td>31.01.2020 23:53</td>\n",
       "      <td>23</td>\n",
       "      <td>20.14</td>\n",
       "      <td>3.184166667</td>\n",
       "      <td>1</td>\n",
       "      <td>Friday</td>\n",
       "      <td>early evening (18-21)</td>\n",
       "      <td>Between 3 and 6 hours</td>\n",
       "    </tr>\n",
       "  </tbody>\n",
       "</table>\n",
       "<p>6878 rows × 15 columns</p>\n",
       "</div>"
      ],
      "text/plain": [
       "     session_ID Garage_ID  User_ID User_type Shared_ID      Start_plugin  \\\n",
       "1             1      AdO3   AdO3-4   Private       NaN  21.12.2018 10:20   \n",
       "2             2      AdO3   AdO3-4   Private       NaN  21.12.2018 10:24   \n",
       "3             3      AdO3   AdO3-4   Private       NaN  21.12.2018 11:33   \n",
       "4             4      AdO3   AdO3-2   Private       NaN  22.12.2018 16:15   \n",
       "5             5      AdO3   AdO3-2   Private       NaN  24.12.2018 22:03   \n",
       "...         ...       ...      ...       ...       ...               ...   \n",
       "6874       6874      UT15   UT15-2   Private       NaN  31.01.2020 17:57   \n",
       "6875       6875     AsO10  AsO10-1   Private       NaN  31.01.2020 18:32   \n",
       "6876       6876       Bl2    Bl2-1   Private       NaN  31.01.2020 19:25   \n",
       "6877       6877       UT7    UT7-1   Private       NaN  31.01.2020 19:27   \n",
       "6878       6878       Bl2  Share-7    Shared  Shared-7  31.01.2020 20:42   \n",
       "\n",
       "     Start_plugin_hour       End_plugout End_plugout_hour El_kWh  \\\n",
       "1                   10  21.12.2018 10:23               10    0.3   \n",
       "2                   10  21.12.2018 10:32               10   0.87   \n",
       "3                   11  21.12.2018 19:46               19  29.87   \n",
       "4                   16  23.12.2018 16:40               16  15.56   \n",
       "5                   22  24.12.2018 23:02               23   3.62   \n",
       "...                ...               ...              ...    ...   \n",
       "6874                17  31.01.2020 22:29               22  13.43   \n",
       "6875                18  31.01.2020 21:43               21    9.1   \n",
       "6876                19  31.01.2020 20:37               20   4.28   \n",
       "6877                19  31.01.2020 19:48               19   2.31   \n",
       "6878                20  31.01.2020 23:53               23  20.14   \n",
       "\n",
       "     Duration_hours  month_plugin weekdays_plugin             Plugin_category  \\\n",
       "1              0.05            12          Friday         late morning (9-12)   \n",
       "2       0.136666667            12          Friday         late morning (9-12)   \n",
       "3       8.216388889            12          Friday         late morning (9-12)   \n",
       "4       24.41972222            12        Saturday      late afternoon (15-18)   \n",
       "5       0.970555556            12          Monday  late evening (21-midnight)   \n",
       "...             ...           ...             ...                         ...   \n",
       "6874           4.53             1          Friday      late afternoon (15-18)   \n",
       "6875    3.182222222             1          Friday       early evening (18-21)   \n",
       "6876    1.203888889             1          Friday       early evening (18-21)   \n",
       "6877         0.3525             1          Friday       early evening (18-21)   \n",
       "6878    3.184166667             1          Friday       early evening (18-21)   \n",
       "\n",
       "           Duration_category  \n",
       "1          Less than 3 hours  \n",
       "2          Less than 3 hours  \n",
       "3     Between 6 and 9  hours  \n",
       "4         More than 18 hours  \n",
       "5          Less than 3 hours  \n",
       "...                      ...  \n",
       "6874   Between 3 and 6 hours  \n",
       "6875   Between 3 and 6 hours  \n",
       "6876       Less than 3 hours  \n",
       "6877       Less than 3 hours  \n",
       "6878   Between 3 and 6 hours  \n",
       "\n",
       "[6878 rows x 15 columns]"
      ]
     },
     "execution_count": 27,
     "metadata": {},
     "output_type": "execute_result"
    }
   ],
   "source": [
    "EV"
   ]
  },
  {
   "cell_type": "code",
   "execution_count": 28,
   "id": "2d2203c6",
   "metadata": {},
   "outputs": [
    {
     "data": {
      "text/plain": [
       "Text(0.5, 1.0, 'average duration_hour per month')"
      ]
     },
     "execution_count": 28,
     "metadata": {},
     "output_type": "execute_result"
    },
    {
     "data": {
      "image/png": "[encoded data removed]",
      "text/plain": [
       "<Figure size 432x288 with 1 Axes>"
      ]
     },
     "metadata": {
      "needs_background": "light"
     },
     "output_type": "display_data"
    }
   ],
   "source": [
    "EV[\"Duration_hours\"] = pd.to_numeric(EV[\"Duration_hours\"])\n",
    "EV[\"El_kWh\"] = pd.to_numeric(EV[\"El_kWh\"])\n",
    "plt1 = EV.groupby('month_plugin').mean().reset_index()\n",
    "plt.bar(plt1[\"month_plugin\"], plt1[\"Duration_hours\"])\n",
    "plt.title('average duration_hour per month')"
   ]
  },
  {
   "cell_type": "code",
   "execution_count": 29,
   "id": "da5ebedb",
   "metadata": {},
   "outputs": [
    {
     "data": {
      "text/plain": [
       "Text(0.5, 1.0, 'average El_kWh per month')"
      ]
     },
     "execution_count": 29,
     "metadata": {},
     "output_type": "execute_result"
    },
    {
     "data": {
      "image/png": "[encoded data removed]",
      "text/plain": [
       "<Figure size 432x288 with 1 Axes>"
      ]
     },
     "metadata": {
      "needs_background": "light"
     },
     "output_type": "display_data"
    }
   ],
   "source": [
    "plt.bar(plt1[\"month_plugin\"], plt1[\"El_kWh\"])\n",
    "plt.title('average El_kWh per month')"
   ]
  },
  {
   "cell_type": "code",
   "execution_count": 30,
   "id": "13e7d23a",
   "metadata": {},
   "outputs": [],
   "source": [
    "d_weekday = {'Monday':1, 'Tuesday':2, 'Wednesday':3, 'Thursday':4, 'Friday':5, 'Saturday':6, 'Sunday':7}\n",
    "EV['weekdays_plugin'] = EV['weekdays_plugin'].map(d_weekday)"
   ]
  },
  {
   "cell_type": "code",
   "execution_count": 31,
   "id": "eae9052e",
   "metadata": {},
   "outputs": [
    {
     "data": {
      "text/plain": [
       "Text(0.5, 1.0, 'average duration_hour per weekday')"
      ]
     },
     "execution_count": 31,
     "metadata": {},
     "output_type": "execute_result"
    },
    {
     "data": {
      "image/png": "[encoded data removed]",
      "text/plain": [
       "<Figure size 432x288 with 1 Axes>"
      ]
     },
     "metadata": {
      "needs_background": "light"
     },
     "output_type": "display_data"
    }
   ],
   "source": [
    "plt2 = EV.groupby('weekdays_plugin').mean().reset_index()\n",
    "plt.bar(plt2[\"weekdays_plugin\"], plt2[\"Duration_hours\"])\n",
    "plt.title('average duration_hour per weekday')"
   ]
  },
  {
   "cell_type": "code",
   "execution_count": 32,
   "id": "f89857fb",
   "metadata": {},
   "outputs": [
    {
     "data": {
      "text/plain": [
       "Text(0.5, 1.0, 'average El_kWh per month')"
      ]
     },
     "execution_count": 32,
     "metadata": {},
     "output_type": "execute_result"
    },
    {
     "data": {
      "image/png": "[encoded data removed]",
      "text/plain": [
       "<Figure size 432x288 with 1 Axes>"
      ]
     },
     "metadata": {
      "needs_background": "light"
     },
     "output_type": "display_data"
    }
   ],
   "source": [
    "plt.bar(plt2[\"weekdays_plugin\"], plt2[\"El_kWh\"])\n",
    "plt.title('average El_kWh per month')"
   ]
  },
  {
   "cell_type": "code",
   "execution_count": 33,
   "id": "1dcb1dc8",
   "metadata": {},
   "outputs": [
    {
     "data": {
      "text/html": [
       "<div>\n",
       "<style scoped>\n",
       "    .dataframe tbody tr th:only-of-type {\n",
       "        vertical-align: middle;\n",
       "    }\n",
       "\n",
       "    .dataframe tbody tr th {\n",
       "        vertical-align: top;\n",
       "    }\n",
       "\n",
       "    .dataframe thead th {\n",
       "        text-align: right;\n",
       "    }\n",
       "</style>\n",
       "<table border=\"1\" class=\"dataframe\">\n",
       "  <thead>\n",
       "    <tr style=\"text-align: right;\">\n",
       "      <th></th>\n",
       "      <th>Plugin_category</th>\n",
       "      <th>El_kWh</th>\n",
       "      <th>Duration_hours</th>\n",
       "      <th>month_plugin</th>\n",
       "      <th>weekdays_plugin</th>\n",
       "    </tr>\n",
       "  </thead>\n",
       "  <tbody>\n",
       "    <tr>\n",
       "      <th>0</th>\n",
       "      <td>early afternoon (12-15)</td>\n",
       "      <td>10.468285</td>\n",
       "      <td>190.157054</td>\n",
       "      <td>7.443584</td>\n",
       "      <td>4.553097</td>\n",
       "    </tr>\n",
       "    <tr>\n",
       "      <th>1</th>\n",
       "      <td>early evening (18-21)</td>\n",
       "      <td>14.347054</td>\n",
       "      <td>297.610910</td>\n",
       "      <td>7.296256</td>\n",
       "      <td>3.768313</td>\n",
       "    </tr>\n",
       "    <tr>\n",
       "      <th>2</th>\n",
       "      <td>early morning (6-9)</td>\n",
       "      <td>14.831285</td>\n",
       "      <td>341.458043</td>\n",
       "      <td>7.223464</td>\n",
       "      <td>3.871508</td>\n",
       "    </tr>\n",
       "    <tr>\n",
       "      <th>3</th>\n",
       "      <td>early night (midnight-3)</td>\n",
       "      <td>17.086707</td>\n",
       "      <td>358.564087</td>\n",
       "      <td>6.688623</td>\n",
       "      <td>4.838323</td>\n",
       "    </tr>\n",
       "    <tr>\n",
       "      <th>4</th>\n",
       "      <td>late afternoon (15-18)</td>\n",
       "      <td>11.514274</td>\n",
       "      <td>228.000572</td>\n",
       "      <td>7.308344</td>\n",
       "      <td>3.870817</td>\n",
       "    </tr>\n",
       "    <tr>\n",
       "      <th>5</th>\n",
       "      <td>late evening (21-midnight)</td>\n",
       "      <td>14.265270</td>\n",
       "      <td>308.133430</td>\n",
       "      <td>7.175676</td>\n",
       "      <td>3.778958</td>\n",
       "    </tr>\n",
       "    <tr>\n",
       "      <th>6</th>\n",
       "      <td>late morning (9-12)</td>\n",
       "      <td>10.255324</td>\n",
       "      <td>164.626251</td>\n",
       "      <td>8.053521</td>\n",
       "      <td>4.140845</td>\n",
       "    </tr>\n",
       "    <tr>\n",
       "      <th>7</th>\n",
       "      <td>late night (3-6)</td>\n",
       "      <td>14.405758</td>\n",
       "      <td>9.559150</td>\n",
       "      <td>6.787879</td>\n",
       "      <td>5.000000</td>\n",
       "    </tr>\n",
       "  </tbody>\n",
       "</table>\n",
       "</div>"
      ],
      "text/plain": [
       "              Plugin_category     El_kWh  Duration_hours  month_plugin  \\\n",
       "0     early afternoon (12-15)  10.468285      190.157054      7.443584   \n",
       "1       early evening (18-21)  14.347054      297.610910      7.296256   \n",
       "2         early morning (6-9)  14.831285      341.458043      7.223464   \n",
       "3    early night (midnight-3)  17.086707      358.564087      6.688623   \n",
       "4      late afternoon (15-18)  11.514274      228.000572      7.308344   \n",
       "5  late evening (21-midnight)  14.265270      308.133430      7.175676   \n",
       "6         late morning (9-12)  10.255324      164.626251      8.053521   \n",
       "7            late night (3-6)  14.405758        9.559150      6.787879   \n",
       "\n",
       "   weekdays_plugin  \n",
       "0         4.553097  \n",
       "1         3.768313  \n",
       "2         3.871508  \n",
       "3         4.838323  \n",
       "4         3.870817  \n",
       "5         3.778958  \n",
       "6         4.140845  \n",
       "7         5.000000  "
      ]
     },
     "execution_count": 33,
     "metadata": {},
     "output_type": "execute_result"
    },
    {
     "data": {
      "image/png": "[encoded data removed]",
      "text/plain": [
       "<Figure size 432x288 with 1 Axes>"
      ]
     },
     "metadata": {
      "needs_background": "light"
     },
     "output_type": "display_data"
    }
   ],
   "source": [
    "plt3 = EV.groupby('Plugin_category').mean().reset_index()\n",
    "plt.bar(plt3[\"Plugin_category\"], plt3[\"Duration_hours\"])\n",
    "plt.title('average duration_hour per plugin_category')\n",
    "plt3"
   ]
  },
  {
   "cell_type": "code",
   "execution_count": 34,
   "id": "9a6d0f10",
   "metadata": {},
   "outputs": [
    {
     "data": {
      "text/plain": [
       "Text(0.5, 1.0, 'average El_kWh per plugin_category')"
      ]
     },
     "execution_count": 34,
     "metadata": {},
     "output_type": "execute_result"
    },
    {
     "data": {
      "image/png": "[encoded data removed]",
      "text/plain": [
       "<Figure size 432x288 with 1 Axes>"
      ]
     },
     "metadata": {
      "needs_background": "light"
     },
     "output_type": "display_data"
    }
   ],
   "source": [
    "plt.bar(plt3[\"Plugin_category\"], plt3[\"El_kWh\"])\n",
    "plt.title('average El_kWh per plugin_category')"
   ]
  },
  {
   "cell_type": "markdown",
   "id": "48b42a8b",
   "metadata": {},
   "source": [
    "# Month June to September"
   ]
  },
  {
   "cell_type": "code",
   "execution_count": 35,
   "id": "5ef5b41f",
   "metadata": {},
   "outputs": [
    {
     "data": {
      "text/html": [
       "<div>\n",
       "<style scoped>\n",
       "    .dataframe tbody tr th:only-of-type {\n",
       "        vertical-align: middle;\n",
       "    }\n",
       "\n",
       "    .dataframe tbody tr th {\n",
       "        vertical-align: top;\n",
       "    }\n",
       "\n",
       "    .dataframe thead th {\n",
       "        text-align: right;\n",
       "    }\n",
       "</style>\n",
       "<table border=\"1\" class=\"dataframe\">\n",
       "  <thead>\n",
       "    <tr style=\"text-align: right;\">\n",
       "      <th></th>\n",
       "      <th>session_ID</th>\n",
       "      <th>Garage_ID</th>\n",
       "      <th>User_ID</th>\n",
       "      <th>User_type</th>\n",
       "      <th>Shared_ID</th>\n",
       "      <th>Start_plugin</th>\n",
       "      <th>Start_plugin_hour</th>\n",
       "      <th>End_plugout</th>\n",
       "      <th>End_plugout_hour</th>\n",
       "      <th>El_kWh</th>\n",
       "      <th>Duration_hours</th>\n",
       "      <th>month_plugin</th>\n",
       "      <th>weekdays_plugin</th>\n",
       "      <th>Plugin_category</th>\n",
       "      <th>Duration_category</th>\n",
       "    </tr>\n",
       "  </thead>\n",
       "  <tbody>\n",
       "    <tr>\n",
       "      <th>1151</th>\n",
       "      <td>1151</td>\n",
       "      <td>Bl2</td>\n",
       "      <td>Bl2-5</td>\n",
       "      <td>Private</td>\n",
       "      <td>NaN</td>\n",
       "      <td>01.06.2019 11:45</td>\n",
       "      <td>11</td>\n",
       "      <td>01.06.2019 11:51</td>\n",
       "      <td>11</td>\n",
       "      <td>0.32</td>\n",
       "      <td>0.096111</td>\n",
       "      <td>6</td>\n",
       "      <td>6</td>\n",
       "      <td>late morning (9-12)</td>\n",
       "      <td>Less than 3 hours</td>\n",
       "    </tr>\n",
       "    <tr>\n",
       "      <th>1152</th>\n",
       "      <td>1152</td>\n",
       "      <td>Bl2</td>\n",
       "      <td>Bl2-5</td>\n",
       "      <td>Private</td>\n",
       "      <td>NaN</td>\n",
       "      <td>01.06.2019 12:22</td>\n",
       "      <td>12</td>\n",
       "      <td>01.06.2019 18:55</td>\n",
       "      <td>18</td>\n",
       "      <td>7.32</td>\n",
       "      <td>6.562500</td>\n",
       "      <td>6</td>\n",
       "      <td>6</td>\n",
       "      <td>early afternoon (12-15)</td>\n",
       "      <td>Between 6 and 9  hours</td>\n",
       "    </tr>\n",
       "    <tr>\n",
       "      <th>1153</th>\n",
       "      <td>1153</td>\n",
       "      <td>UT9</td>\n",
       "      <td>Share-14</td>\n",
       "      <td>Shared</td>\n",
       "      <td>Shared-12</td>\n",
       "      <td>01.06.2019 21:41</td>\n",
       "      <td>21</td>\n",
       "      <td>02.06.2019 03:46</td>\n",
       "      <td>3</td>\n",
       "      <td>32.66</td>\n",
       "      <td>6.078333</td>\n",
       "      <td>6</td>\n",
       "      <td>6</td>\n",
       "      <td>late evening (21-midnight)</td>\n",
       "      <td>Between 6 and 9  hours</td>\n",
       "    </tr>\n",
       "    <tr>\n",
       "      <th>1154</th>\n",
       "      <td>1154</td>\n",
       "      <td>Bl2</td>\n",
       "      <td>Bl2-5</td>\n",
       "      <td>Private</td>\n",
       "      <td>NaN</td>\n",
       "      <td>01.06.2019 21:45</td>\n",
       "      <td>21</td>\n",
       "      <td>02.06.2019 10:12</td>\n",
       "      <td>10</td>\n",
       "      <td>4.32</td>\n",
       "      <td>12.445833</td>\n",
       "      <td>6</td>\n",
       "      <td>6</td>\n",
       "      <td>late evening (21-midnight)</td>\n",
       "      <td>Between 12 and 15 hours</td>\n",
       "    </tr>\n",
       "    <tr>\n",
       "      <th>1155</th>\n",
       "      <td>1155</td>\n",
       "      <td>AdO1</td>\n",
       "      <td>AdO1-2</td>\n",
       "      <td>Private</td>\n",
       "      <td>NaN</td>\n",
       "      <td>01.06.2019 23:14</td>\n",
       "      <td>23</td>\n",
       "      <td>02.06.2019 18:34</td>\n",
       "      <td>18</td>\n",
       "      <td>12.99</td>\n",
       "      <td>19.325278</td>\n",
       "      <td>6</td>\n",
       "      <td>6</td>\n",
       "      <td>late evening (21-midnight)</td>\n",
       "      <td>More than 18 hours</td>\n",
       "    </tr>\n",
       "  </tbody>\n",
       "</table>\n",
       "</div>"
      ],
      "text/plain": [
       "     session_ID Garage_ID   User_ID User_type  Shared_ID      Start_plugin  \\\n",
       "1151       1151       Bl2     Bl2-5   Private        NaN  01.06.2019 11:45   \n",
       "1152       1152       Bl2     Bl2-5   Private        NaN  01.06.2019 12:22   \n",
       "1153       1153       UT9  Share-14    Shared  Shared-12  01.06.2019 21:41   \n",
       "1154       1154       Bl2     Bl2-5   Private        NaN  01.06.2019 21:45   \n",
       "1155       1155      AdO1    AdO1-2   Private        NaN  01.06.2019 23:14   \n",
       "\n",
       "     Start_plugin_hour       End_plugout End_plugout_hour  El_kWh  \\\n",
       "1151                11  01.06.2019 11:51               11    0.32   \n",
       "1152                12  01.06.2019 18:55               18    7.32   \n",
       "1153                21  02.06.2019 03:46                3   32.66   \n",
       "1154                21  02.06.2019 10:12               10    4.32   \n",
       "1155                23  02.06.2019 18:34               18   12.99   \n",
       "\n",
       "      Duration_hours  month_plugin  weekdays_plugin  \\\n",
       "1151        0.096111             6                6   \n",
       "1152        6.562500             6                6   \n",
       "1153        6.078333             6                6   \n",
       "1154       12.445833             6                6   \n",
       "1155       19.325278             6                6   \n",
       "\n",
       "                 Plugin_category        Duration_category  \n",
       "1151         late morning (9-12)        Less than 3 hours  \n",
       "1152     early afternoon (12-15)   Between 6 and 9  hours  \n",
       "1153  late evening (21-midnight)   Between 6 and 9  hours  \n",
       "1154  late evening (21-midnight)  Between 12 and 15 hours  \n",
       "1155  late evening (21-midnight)       More than 18 hours  "
      ]
     },
     "execution_count": 35,
     "metadata": {},
     "output_type": "execute_result"
    }
   ],
   "source": [
    "summer = EV.loc[(EV['month_plugin'] >= 6) & (EV['month_plugin'] <= 9)]\n",
    "summer.head()"
   ]
  },
  {
   "cell_type": "code",
   "execution_count": 36,
   "id": "d39f17bb",
   "metadata": {},
   "outputs": [],
   "source": [
    "early_night = summer.loc[summer['Plugin_category'] == 'early night (midnight-3)']\n",
    "late_night = summer.loc[summer['Plugin_category'] == 'late night (3-6)']\n",
    "early_morning = summer.loc[summer['Plugin_category'] == 'early morning (6-9)']\n",
    "late_morning = summer.loc[summer['Plugin_category'] == 'late morning (9-12)']\n",
    "early_afternoon = summer.loc[summer['Plugin_category'] == 'early afternoon (12-15)']\n",
    "late_afternoon = summer.loc[summer['Plugin_category'] == 'late afternoon (15-18)']\n",
    "early_evening = summer.loc[summer['Plugin_category'] == 'early evening (18-21)']\n",
    "late_evening = summer.loc[summer['Plugin_category'] == 'late evening (21-midnight)']"
   ]
  },
  {
   "cell_type": "code",
   "execution_count": 37,
   "id": "b8d30900",
   "metadata": {},
   "outputs": [
    {
     "name": "stdout",
     "output_type": "stream",
     "text": [
      "17.91216216216216\n",
      "12.861199212950368\n"
     ]
    },
    {
     "data": {
      "image/png": "[encoded data removed]",
      "text/plain": [
       "<Figure size 432x288 with 1 Axes>"
      ]
     },
     "metadata": {
      "needs_background": "light"
     },
     "output_type": "display_data"
    }
   ],
   "source": [
    "sns.histplot(early_night['El_kWh'], stat = 'probability')\n",
    "print(early_night['El_kWh'].mean())\n",
    "print(early_night['El_kWh'].std())"
   ]
  },
  {
   "cell_type": "code",
   "execution_count": 38,
   "id": "3bee7687",
   "metadata": {},
   "outputs": [
    {
     "name": "stdout",
     "output_type": "stream",
     "text": [
      "11.315\n",
      "5.566429992117286\n"
     ]
    },
    {
     "data": {
      "image/png": "[encoded data removed]",
      "text/plain": [
       "<Figure size 432x288 with 1 Axes>"
      ]
     },
     "metadata": {
      "needs_background": "light"
     },
     "output_type": "display_data"
    }
   ],
   "source": [
    "sns.histplot(late_night['El_kWh'], stat = 'probability')\n",
    "print(late_night['El_kWh'].mean())\n",
    "print(late_night['El_kWh'].std())"
   ]
  },
  {
   "cell_type": "code",
   "execution_count": 39,
   "id": "698fd4ba",
   "metadata": {},
   "outputs": [
    {
     "name": "stdout",
     "output_type": "stream",
     "text": [
      "16.792444444444445\n",
      "10.688528293020845\n"
     ]
    },
    {
     "data": {
      "image/png": "[encoded data removed]",
      "text/plain": [
       "<Figure size 432x288 with 1 Axes>"
      ]
     },
     "metadata": {
      "needs_background": "light"
     },
     "output_type": "display_data"
    }
   ],
   "source": [
    "sns.histplot(early_morning['El_kWh'], stat = 'probability')\n",
    "print(early_morning['El_kWh'].mean())\n",
    "print(early_morning['El_kWh'].std())"
   ]
  },
  {
   "cell_type": "code",
   "execution_count": 42,
   "id": "11861a55-254c-4956-b9c8-fc7b61e8db31",
   "metadata": {},
   "outputs": [
    {
     "data": {
      "text/plain": [
       "45"
      ]
     },
     "execution_count": 42,
     "metadata": {},
     "output_type": "execute_result"
    }
   ],
   "source": [
    "len(early_morning['El_kWh'])"
   ]
  },
  {
   "cell_type": "code",
   "execution_count": 40,
   "id": "68197c5f",
   "metadata": {},
   "outputs": [
    {
     "name": "stdout",
     "output_type": "stream",
     "text": [
      "11.056593406593406\n",
      "9.167442902864973\n"
     ]
    },
    {
     "data": {
      "image/png": "[encoded data removed]",
      "text/plain": [
       "<Figure size 432x288 with 1 Axes>"
      ]
     },
     "metadata": {
      "needs_background": "light"
     },
     "output_type": "display_data"
    }
   ],
   "source": [
    "sns.histplot(late_morning['El_kWh'], stat = 'probability')\n",
    "print(late_morning['El_kWh'].mean())\n",
    "print(late_morning['El_kWh'].std())"
   ]
  },
  {
   "cell_type": "code",
   "execution_count": 19,
   "id": "a1fa9045",
   "metadata": {},
   "outputs": [
    {
     "name": "stdout",
     "output_type": "stream",
     "text": [
      "10.472366863905325\n",
      "8.983940384975861\n"
     ]
    },
    {
     "data": {
      "image/png": "[encoded data removed]",
      "text/plain": [
       "<Figure size 432x288 with 1 Axes>"
      ]
     },
     "metadata": {
      "needs_background": "light"
     },
     "output_type": "display_data"
    }
   ],
   "source": [
    "sns.histplot(early_afternoon['El_kWh'], stat = 'probability')\n",
    "print(early_afternoon['El_kWh'].mean())\n",
    "print(early_afternoon['El_kWh'].std())"
   ]
  },
  {
   "cell_type": "code",
   "execution_count": 20,
   "id": "b91fbe70",
   "metadata": {},
   "outputs": [
    {
     "name": "stdout",
     "output_type": "stream",
     "text": [
      "13.256301369863014\n",
      "11.639091435620127\n"
     ]
    },
    {
     "data": {
      "image/png": "[encoded data removed]",
      "text/plain": [
       "<Figure size 432x288 with 1 Axes>"
      ]
     },
     "metadata": {
      "needs_background": "light"
     },
     "output_type": "display_data"
    }
   ],
   "source": [
    "sns.histplot(late_afternoon['El_kWh'], stat = 'probability')\n",
    "print(late_afternoon['El_kWh'].mean())\n",
    "print(late_afternoon['El_kWh'].std())"
   ]
  },
  {
   "cell_type": "code",
   "execution_count": 21,
   "id": "85c6cd4f",
   "metadata": {},
   "outputs": [
    {
     "name": "stdout",
     "output_type": "stream",
     "text": [
      "17.712700534759357\n",
      "15.307718844636323\n"
     ]
    },
    {
     "data": {
      "image/png": "[encoded data removed]",
      "text/plain": [
       "<Figure size 432x288 with 1 Axes>"
      ]
     },
     "metadata": {
      "needs_background": "light"
     },
     "output_type": "display_data"
    }
   ],
   "source": [
    "sns.histplot(early_evening['El_kWh'], stat = 'probability')\n",
    "print(early_evening['El_kWh'].mean())\n",
    "print(early_evening['El_kWh'].std())"
   ]
  },
  {
   "cell_type": "code",
   "execution_count": 22,
   "id": "bd485445",
   "metadata": {},
   "outputs": [
    {
     "name": "stdout",
     "output_type": "stream",
     "text": [
      "15.485608695652171\n",
      "12.687597710129076\n"
     ]
    },
    {
     "data": {
      "image/png": "[encoded data removed]",
      "text/plain": [
       "<Figure size 432x288 with 1 Axes>"
      ]
     },
     "metadata": {
      "needs_background": "light"
     },
     "output_type": "display_data"
    }
   ],
   "source": [
    "sns.histplot(late_evening['El_kWh'], stat = 'probability')\n",
    "print(late_evening['El_kWh'].mean())\n",
    "print(late_evening['El_kWh'].std())"
   ]
  },
  {
   "cell_type": "code",
   "execution_count": null,
   "id": "280dc167",
   "metadata": {},
   "outputs": [],
   "source": []
  },
  {
   "cell_type": "code",
   "execution_count": null,
   "id": "9c0a71d5-c498-41ae-be34-bdaaf5e029e9",
   "metadata": {},
   "outputs": [],
   "source": []
  }
 ],
 "metadata": {
  "kernelspec": {
   "display_name": "Python 3",
   "language": "python",
   "name": "python3"
  },
  "language_info": {
   "codemirror_mode": {
    "name": "ipython",
    "version": 3
   },
   "file_extension": ".py",
   "mimetype": "text/x-python",
   "name": "python",
   "nbconvert_exporter": "python",
   "pygments_lexer": "ipython3",
   "version": "3.9.7"
  }
 },
 "nbformat": 4,
 "nbformat_minor": 5
}
