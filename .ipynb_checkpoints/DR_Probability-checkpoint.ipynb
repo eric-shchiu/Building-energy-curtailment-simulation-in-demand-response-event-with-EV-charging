{
 "cells": [
  {
   "cell_type": "code",
   "execution_count": 29,
   "metadata": {},
   "outputs": [],
   "source": [
    "import numpy as np\n",
    "import pandas as pd\n",
    "import matplotlib.pyplot as plt\n",
    "from datetime import datetime\n",
    "import scipy.stats\n",
    "\n",
    "from sklearn.model_selection import train_test_split\n",
    "from sklearn.linear_model import LogisticRegression\n",
    "\n",
    "# reading the time series (pd.Series format)\n",
    "series = pd.read_csv('all_weather.csv')\n",
    "\n",
    "tseries = series['t_out']\n",
    "# you can simulate some data with:\n",
    "# tseries = pd.Series(np.random.random(100))\n",
    "\n",
    "rhseries = series['rh_out']"
   ]
  },
  {
   "cell_type": "markdown",
   "metadata": {},
   "source": [
    "# Heat Wave Index"
   ]
  },
  {
   "cell_type": "code",
   "execution_count": 30,
   "metadata": {},
   "outputs": [],
   "source": [
    "def C_F(T):\n",
    "    return (T*9/5) + 32\n",
    "\n",
    "def F_HI(series):\n",
    "    # Heat index calculation\n",
    "    heat_i = []\n",
    "    c1 = -42.379\n",
    "    c2 = 2.04901523\n",
    "    c3 = 10.14333127\n",
    "    c4 = -0.22475541\n",
    "    c5 = -6.83783e-03\n",
    "    c6 = -5.481717e-02\n",
    "    c7 = 1.22874e-03\n",
    "    c8 = 8.5282e-04\n",
    "    c9 = -1.99e-06\n",
    "\n",
    "    for i in range(len(series)):\n",
    "        if C_F(series['t_out'][i]) < 80:\n",
    "            index = 0.5*(C_F(series['t_out'][i]) + 61 + (C_F(series['t_out'][i]) - 68)*1.2 + (series['rh_out'][i]*0.094))\n",
    "            heat_i.append(index)\n",
    "            # print(index)\n",
    "        else:\n",
    "            index = c1 + c2*C_F(series['t_out'][i]) + c3*series['rh_out'][i] + c4*C_F(series['t_out'][i])*series['rh_out'][i] + c5*C_F(series['t_out'][i])**2 + c6*series['rh_out'][i]**2 + c7*C_F(series['t_out'][i])**2*series['rh_out'][i] + c8*C_F(series['t_out'][i])*series['rh_out'][i]**2 + c9*C_F(series['t_out'][i])**2*series['rh_out'][i]**2\n",
    "            heat_i.append(index)\n",
    "\n",
    "    series['heat_index'] = heat_i\n",
    "\n",
    "    return series"
   ]
  },
  {
   "cell_type": "code",
   "execution_count": 31,
   "metadata": {},
   "outputs": [],
   "source": [
    "series = F_HI(series)"
   ]
  },
  {
   "cell_type": "code",
   "execution_count": 32,
   "metadata": {},
   "outputs": [],
   "source": [
    "series['datetime_UTC'] = pd.to_datetime(series['datetime_UTC'], utc=True).dt.tz_convert('America/Los_Angeles')\n",
    "series['hour_of_day'] = series['datetime_UTC'].dt.hour"
   ]
  },
  {
   "cell_type": "code",
   "execution_count": 33,
   "metadata": {},
   "outputs": [
    {
     "data": {
      "text/html": [
       "<div>\n",
       "<style scoped>\n",
       "    .dataframe tbody tr th:only-of-type {\n",
       "        vertical-align: middle;\n",
       "    }\n",
       "\n",
       "    .dataframe tbody tr th {\n",
       "        vertical-align: top;\n",
       "    }\n",
       "\n",
       "    .dataframe thead tr th {\n",
       "        text-align: left;\n",
       "    }\n",
       "\n",
       "    .dataframe thead tr:last-of-type th {\n",
       "        text-align: right;\n",
       "    }\n",
       "</style>\n",
       "<table border=\"1\" class=\"dataframe\">\n",
       "  <thead>\n",
       "    <tr>\n",
       "      <th></th>\n",
       "      <th colspan=\"8\" halign=\"left\">t_out</th>\n",
       "      <th colspan=\"2\" halign=\"left\">rh_out</th>\n",
       "      <th>...</th>\n",
       "      <th colspan=\"2\" halign=\"left\">long</th>\n",
       "      <th colspan=\"8\" halign=\"left\">heat_index</th>\n",
       "    </tr>\n",
       "    <tr>\n",
       "      <th></th>\n",
       "      <th>count</th>\n",
       "      <th>mean</th>\n",
       "      <th>std</th>\n",
       "      <th>min</th>\n",
       "      <th>25%</th>\n",
       "      <th>50%</th>\n",
       "      <th>75%</th>\n",
       "      <th>max</th>\n",
       "      <th>count</th>\n",
       "      <th>mean</th>\n",
       "      <th>...</th>\n",
       "      <th>75%</th>\n",
       "      <th>max</th>\n",
       "      <th>count</th>\n",
       "      <th>mean</th>\n",
       "      <th>std</th>\n",
       "      <th>min</th>\n",
       "      <th>25%</th>\n",
       "      <th>50%</th>\n",
       "      <th>75%</th>\n",
       "      <th>max</th>\n",
       "    </tr>\n",
       "    <tr>\n",
       "      <th>hour_of_day</th>\n",
       "      <th></th>\n",
       "      <th></th>\n",
       "      <th></th>\n",
       "      <th></th>\n",
       "      <th></th>\n",
       "      <th></th>\n",
       "      <th></th>\n",
       "      <th></th>\n",
       "      <th></th>\n",
       "      <th></th>\n",
       "      <th></th>\n",
       "      <th></th>\n",
       "      <th></th>\n",
       "      <th></th>\n",
       "      <th></th>\n",
       "      <th></th>\n",
       "      <th></th>\n",
       "      <th></th>\n",
       "      <th></th>\n",
       "      <th></th>\n",
       "      <th></th>\n",
       "    </tr>\n",
       "  </thead>\n",
       "  <tbody>\n",
       "    <tr>\n",
       "      <th>0</th>\n",
       "      <td>1823.0</td>\n",
       "      <td>12.639309</td>\n",
       "      <td>5.501424</td>\n",
       "      <td>0.00</td>\n",
       "      <td>8.300000</td>\n",
       "      <td>12.8</td>\n",
       "      <td>17.2000</td>\n",
       "      <td>27.8</td>\n",
       "      <td>1823.0</td>\n",
       "      <td>75.008723</td>\n",
       "      <td>...</td>\n",
       "      <td>-121.4944</td>\n",
       "      <td>-121.4944</td>\n",
       "      <td>1823.0</td>\n",
       "      <td>53.453185</td>\n",
       "      <td>10.469219</td>\n",
       "      <td>28.161549</td>\n",
       "      <td>45.295230</td>\n",
       "      <td>53.378269</td>\n",
       "      <td>62.079395</td>\n",
       "      <td>84.884468</td>\n",
       "    </tr>\n",
       "    <tr>\n",
       "      <th>1</th>\n",
       "      <td>1830.0</td>\n",
       "      <td>12.121960</td>\n",
       "      <td>5.398299</td>\n",
       "      <td>-0.60</td>\n",
       "      <td>7.808333</td>\n",
       "      <td>12.2</td>\n",
       "      <td>16.7000</td>\n",
       "      <td>27.8</td>\n",
       "      <td>1830.0</td>\n",
       "      <td>76.928191</td>\n",
       "      <td>...</td>\n",
       "      <td>-121.4944</td>\n",
       "      <td>-121.4944</td>\n",
       "      <td>1830.0</td>\n",
       "      <td>52.517057</td>\n",
       "      <td>10.298328</td>\n",
       "      <td>27.117363</td>\n",
       "      <td>44.636274</td>\n",
       "      <td>52.438868</td>\n",
       "      <td>61.012764</td>\n",
       "      <td>81.784323</td>\n",
       "    </tr>\n",
       "    <tr>\n",
       "      <th>2</th>\n",
       "      <td>1820.0</td>\n",
       "      <td>11.689806</td>\n",
       "      <td>5.327405</td>\n",
       "      <td>-1.70</td>\n",
       "      <td>7.800000</td>\n",
       "      <td>11.7</td>\n",
       "      <td>16.1000</td>\n",
       "      <td>27.8</td>\n",
       "      <td>1820.0</td>\n",
       "      <td>78.436096</td>\n",
       "      <td>...</td>\n",
       "      <td>-121.4944</td>\n",
       "      <td>-121.4944</td>\n",
       "      <td>1820.0</td>\n",
       "      <td>51.731880</td>\n",
       "      <td>10.188212</td>\n",
       "      <td>25.059517</td>\n",
       "      <td>43.944348</td>\n",
       "      <td>51.972450</td>\n",
       "      <td>60.181867</td>\n",
       "      <td>80.641743</td>\n",
       "    </tr>\n",
       "    <tr>\n",
       "      <th>3</th>\n",
       "      <td>1825.0</td>\n",
       "      <td>11.306662</td>\n",
       "      <td>5.222860</td>\n",
       "      <td>-1.10</td>\n",
       "      <td>7.200000</td>\n",
       "      <td>11.7</td>\n",
       "      <td>15.6000</td>\n",
       "      <td>26.7</td>\n",
       "      <td>1825.0</td>\n",
       "      <td>79.739989</td>\n",
       "      <td>...</td>\n",
       "      <td>-121.4944</td>\n",
       "      <td>-121.4944</td>\n",
       "      <td>1825.0</td>\n",
       "      <td>51.035045</td>\n",
       "      <td>10.019696</td>\n",
       "      <td>26.413894</td>\n",
       "      <td>43.371597</td>\n",
       "      <td>51.433815</td>\n",
       "      <td>59.300000</td>\n",
       "      <td>79.483736</td>\n",
       "    </tr>\n",
       "    <tr>\n",
       "      <th>4</th>\n",
       "      <td>1826.0</td>\n",
       "      <td>10.930413</td>\n",
       "      <td>5.161620</td>\n",
       "      <td>-2.20</td>\n",
       "      <td>7.200000</td>\n",
       "      <td>11.1</td>\n",
       "      <td>15.0000</td>\n",
       "      <td>27.2</td>\n",
       "      <td>1826.0</td>\n",
       "      <td>81.165973</td>\n",
       "      <td>...</td>\n",
       "      <td>-121.4944</td>\n",
       "      <td>-121.4944</td>\n",
       "      <td>1826.0</td>\n",
       "      <td>50.357037</td>\n",
       "      <td>9.933577</td>\n",
       "      <td>24.542705</td>\n",
       "      <td>43.037537</td>\n",
       "      <td>51.057645</td>\n",
       "      <td>58.397674</td>\n",
       "      <td>80.716985</td>\n",
       "    </tr>\n",
       "    <tr>\n",
       "      <th>5</th>\n",
       "      <td>1826.0</td>\n",
       "      <td>10.608296</td>\n",
       "      <td>5.094900</td>\n",
       "      <td>-2.80</td>\n",
       "      <td>6.700000</td>\n",
       "      <td>11.1</td>\n",
       "      <td>14.4000</td>\n",
       "      <td>28.6</td>\n",
       "      <td>1826.0</td>\n",
       "      <td>82.252462</td>\n",
       "      <td>...</td>\n",
       "      <td>-121.4944</td>\n",
       "      <td>-121.4944</td>\n",
       "      <td>1826.0</td>\n",
       "      <td>49.769836</td>\n",
       "      <td>9.830066</td>\n",
       "      <td>23.351486</td>\n",
       "      <td>42.493108</td>\n",
       "      <td>50.450255</td>\n",
       "      <td>57.646262</td>\n",
       "      <td>82.468784</td>\n",
       "    </tr>\n",
       "    <tr>\n",
       "      <th>6</th>\n",
       "      <td>1825.0</td>\n",
       "      <td>10.631191</td>\n",
       "      <td>5.294510</td>\n",
       "      <td>-2.80</td>\n",
       "      <td>6.700000</td>\n",
       "      <td>11.1</td>\n",
       "      <td>14.4000</td>\n",
       "      <td>31.1</td>\n",
       "      <td>1825.0</td>\n",
       "      <td>82.246645</td>\n",
       "      <td>...</td>\n",
       "      <td>-121.4944</td>\n",
       "      <td>-121.4944</td>\n",
       "      <td>1825.0</td>\n",
       "      <td>49.814160</td>\n",
       "      <td>10.201209</td>\n",
       "      <td>23.351486</td>\n",
       "      <td>42.350971</td>\n",
       "      <td>50.405558</td>\n",
       "      <td>57.651597</td>\n",
       "      <td>85.760653</td>\n",
       "    </tr>\n",
       "    <tr>\n",
       "      <th>7</th>\n",
       "      <td>1821.0</td>\n",
       "      <td>11.795610</td>\n",
       "      <td>5.562392</td>\n",
       "      <td>-1.10</td>\n",
       "      <td>7.800000</td>\n",
       "      <td>12.2</td>\n",
       "      <td>16.1000</td>\n",
       "      <td>30.0</td>\n",
       "      <td>1821.0</td>\n",
       "      <td>78.897990</td>\n",
       "      <td>...</td>\n",
       "      <td>-121.4944</td>\n",
       "      <td>-121.4944</td>\n",
       "      <td>1821.0</td>\n",
       "      <td>51.963060</td>\n",
       "      <td>10.625456</td>\n",
       "      <td>26.876131</td>\n",
       "      <td>43.944348</td>\n",
       "      <td>52.315368</td>\n",
       "      <td>60.436379</td>\n",
       "      <td>84.461601</td>\n",
       "    </tr>\n",
       "    <tr>\n",
       "      <th>8</th>\n",
       "      <td>1820.0</td>\n",
       "      <td>14.053594</td>\n",
       "      <td>5.561526</td>\n",
       "      <td>0.00</td>\n",
       "      <td>9.400000</td>\n",
       "      <td>13.9</td>\n",
       "      <td>18.3000</td>\n",
       "      <td>31.7</td>\n",
       "      <td>1820.0</td>\n",
       "      <td>70.982062</td>\n",
       "      <td>...</td>\n",
       "      <td>-121.4944</td>\n",
       "      <td>-121.4944</td>\n",
       "      <td>1820.0</td>\n",
       "      <td>56.055779</td>\n",
       "      <td>10.528820</td>\n",
       "      <td>29.600000</td>\n",
       "      <td>47.627326</td>\n",
       "      <td>55.808086</td>\n",
       "      <td>64.445902</td>\n",
       "      <td>87.535245</td>\n",
       "    </tr>\n",
       "    <tr>\n",
       "      <th>9</th>\n",
       "      <td>1819.0</td>\n",
       "      <td>16.211946</td>\n",
       "      <td>5.928145</td>\n",
       "      <td>1.10</td>\n",
       "      <td>11.100000</td>\n",
       "      <td>16.1</td>\n",
       "      <td>21.1000</td>\n",
       "      <td>36.1</td>\n",
       "      <td>1819.0</td>\n",
       "      <td>63.094062</td>\n",
       "      <td>...</td>\n",
       "      <td>-121.4944</td>\n",
       "      <td>-121.4944</td>\n",
       "      <td>1819.0</td>\n",
       "      <td>59.938006</td>\n",
       "      <td>11.139229</td>\n",
       "      <td>31.778000</td>\n",
       "      <td>50.722572</td>\n",
       "      <td>59.718902</td>\n",
       "      <td>68.992496</td>\n",
       "      <td>95.150866</td>\n",
       "    </tr>\n",
       "    <tr>\n",
       "      <th>10</th>\n",
       "      <td>1823.0</td>\n",
       "      <td>18.248105</td>\n",
       "      <td>6.390893</td>\n",
       "      <td>1.10</td>\n",
       "      <td>12.800000</td>\n",
       "      <td>18.3</td>\n",
       "      <td>23.3000</td>\n",
       "      <td>37.2</td>\n",
       "      <td>1823.0</td>\n",
       "      <td>56.181166</td>\n",
       "      <td>...</td>\n",
       "      <td>-121.4944</td>\n",
       "      <td>-121.4944</td>\n",
       "      <td>1823.0</td>\n",
       "      <td>63.584789</td>\n",
       "      <td>11.897335</td>\n",
       "      <td>31.778000</td>\n",
       "      <td>53.486645</td>\n",
       "      <td>63.274416</td>\n",
       "      <td>73.549789</td>\n",
       "      <td>95.859071</td>\n",
       "    </tr>\n",
       "    <tr>\n",
       "      <th>11</th>\n",
       "      <td>1823.0</td>\n",
       "      <td>20.050404</td>\n",
       "      <td>6.888543</td>\n",
       "      <td>1.95</td>\n",
       "      <td>14.400000</td>\n",
       "      <td>20.0</td>\n",
       "      <td>25.6000</td>\n",
       "      <td>40.0</td>\n",
       "      <td>1823.0</td>\n",
       "      <td>50.426382</td>\n",
       "      <td>...</td>\n",
       "      <td>-121.4944</td>\n",
       "      <td>-121.4944</td>\n",
       "      <td>1823.0</td>\n",
       "      <td>66.747017</td>\n",
       "      <td>12.653868</td>\n",
       "      <td>33.379785</td>\n",
       "      <td>55.923092</td>\n",
       "      <td>66.880048</td>\n",
       "      <td>77.864303</td>\n",
       "      <td>101.332897</td>\n",
       "    </tr>\n",
       "    <tr>\n",
       "      <th>12</th>\n",
       "      <td>1825.0</td>\n",
       "      <td>21.562818</td>\n",
       "      <td>7.379844</td>\n",
       "      <td>2.50</td>\n",
       "      <td>15.000000</td>\n",
       "      <td>21.7</td>\n",
       "      <td>27.8000</td>\n",
       "      <td>42.2</td>\n",
       "      <td>1825.0</td>\n",
       "      <td>45.695526</td>\n",
       "      <td>...</td>\n",
       "      <td>-121.4944</td>\n",
       "      <td>-121.4944</td>\n",
       "      <td>1825.0</td>\n",
       "      <td>69.298636</td>\n",
       "      <td>13.341649</td>\n",
       "      <td>34.372074</td>\n",
       "      <td>57.814301</td>\n",
       "      <td>69.731898</td>\n",
       "      <td>81.171489</td>\n",
       "      <td>104.971833</td>\n",
       "    </tr>\n",
       "    <tr>\n",
       "      <th>13</th>\n",
       "      <td>1825.0</td>\n",
       "      <td>22.690488</td>\n",
       "      <td>7.830675</td>\n",
       "      <td>3.90</td>\n",
       "      <td>16.100000</td>\n",
       "      <td>22.8</td>\n",
       "      <td>29.4000</td>\n",
       "      <td>43.3</td>\n",
       "      <td>1825.0</td>\n",
       "      <td>42.389373</td>\n",
       "      <td>...</td>\n",
       "      <td>-121.4944</td>\n",
       "      <td>-121.4944</td>\n",
       "      <td>1825.0</td>\n",
       "      <td>71.166441</td>\n",
       "      <td>13.986042</td>\n",
       "      <td>36.975646</td>\n",
       "      <td>59.301861</td>\n",
       "      <td>71.544641</td>\n",
       "      <td>83.044025</td>\n",
       "      <td>107.285525</td>\n",
       "    </tr>\n",
       "    <tr>\n",
       "      <th>14</th>\n",
       "      <td>1825.0</td>\n",
       "      <td>23.427902</td>\n",
       "      <td>8.226630</td>\n",
       "      <td>4.40</td>\n",
       "      <td>16.100000</td>\n",
       "      <td>23.3</td>\n",
       "      <td>30.6000</td>\n",
       "      <td>44.4</td>\n",
       "      <td>1824.0</td>\n",
       "      <td>40.180234</td>\n",
       "      <td>...</td>\n",
       "      <td>-121.4944</td>\n",
       "      <td>-121.4944</td>\n",
       "      <td>1824.0</td>\n",
       "      <td>72.328442</td>\n",
       "      <td>14.551581</td>\n",
       "      <td>37.966945</td>\n",
       "      <td>59.449096</td>\n",
       "      <td>73.083491</td>\n",
       "      <td>84.501912</td>\n",
       "      <td>108.756357</td>\n",
       "    </tr>\n",
       "    <tr>\n",
       "      <th>15</th>\n",
       "      <td>1825.0</td>\n",
       "      <td>23.625263</td>\n",
       "      <td>8.578195</td>\n",
       "      <td>4.40</td>\n",
       "      <td>16.100000</td>\n",
       "      <td>23.9</td>\n",
       "      <td>31.1000</td>\n",
       "      <td>45.6</td>\n",
       "      <td>1825.0</td>\n",
       "      <td>39.495685</td>\n",
       "      <td>...</td>\n",
       "      <td>-121.4944</td>\n",
       "      <td>-121.4944</td>\n",
       "      <td>1825.0</td>\n",
       "      <td>72.581118</td>\n",
       "      <td>15.086460</td>\n",
       "      <td>37.966945</td>\n",
       "      <td>59.261439</td>\n",
       "      <td>73.451835</td>\n",
       "      <td>85.154346</td>\n",
       "      <td>109.749918</td>\n",
       "    </tr>\n",
       "    <tr>\n",
       "      <th>16</th>\n",
       "      <td>1826.0</td>\n",
       "      <td>23.026760</td>\n",
       "      <td>9.001132</td>\n",
       "      <td>4.40</td>\n",
       "      <td>14.400000</td>\n",
       "      <td>22.8</td>\n",
       "      <td>30.6000</td>\n",
       "      <td>45.0</td>\n",
       "      <td>1823.0</td>\n",
       "      <td>41.362056</td>\n",
       "      <td>...</td>\n",
       "      <td>-121.4944</td>\n",
       "      <td>-121.4944</td>\n",
       "      <td>1823.0</td>\n",
       "      <td>71.439379</td>\n",
       "      <td>15.808710</td>\n",
       "      <td>37.966945</td>\n",
       "      <td>56.518187</td>\n",
       "      <td>72.172189</td>\n",
       "      <td>84.980451</td>\n",
       "      <td>109.009694</td>\n",
       "    </tr>\n",
       "    <tr>\n",
       "      <th>17</th>\n",
       "      <td>1824.0</td>\n",
       "      <td>21.730372</td>\n",
       "      <td>9.182819</td>\n",
       "      <td>4.20</td>\n",
       "      <td>13.300000</td>\n",
       "      <td>21.7</td>\n",
       "      <td>29.7750</td>\n",
       "      <td>45.0</td>\n",
       "      <td>1824.0</td>\n",
       "      <td>45.468056</td>\n",
       "      <td>...</td>\n",
       "      <td>-121.4944</td>\n",
       "      <td>-121.4944</td>\n",
       "      <td>1824.0</td>\n",
       "      <td>69.253752</td>\n",
       "      <td>16.246588</td>\n",
       "      <td>37.585683</td>\n",
       "      <td>54.169381</td>\n",
       "      <td>69.576047</td>\n",
       "      <td>83.423820</td>\n",
       "      <td>108.756357</td>\n",
       "    </tr>\n",
       "    <tr>\n",
       "      <th>18</th>\n",
       "      <td>1826.0</td>\n",
       "      <td>19.835509</td>\n",
       "      <td>8.734167</td>\n",
       "      <td>3.60</td>\n",
       "      <td>11.800000</td>\n",
       "      <td>19.4</td>\n",
       "      <td>27.2000</td>\n",
       "      <td>41.7</td>\n",
       "      <td>1826.0</td>\n",
       "      <td>51.254073</td>\n",
       "      <td>...</td>\n",
       "      <td>-121.4944</td>\n",
       "      <td>-121.4944</td>\n",
       "      <td>1826.0</td>\n",
       "      <td>66.085182</td>\n",
       "      <td>15.698238</td>\n",
       "      <td>36.192804</td>\n",
       "      <td>52.085526</td>\n",
       "      <td>65.340205</td>\n",
       "      <td>80.299639</td>\n",
       "      <td>102.955485</td>\n",
       "    </tr>\n",
       "    <tr>\n",
       "      <th>19</th>\n",
       "      <td>1826.0</td>\n",
       "      <td>17.781481</td>\n",
       "      <td>7.758794</td>\n",
       "      <td>2.80</td>\n",
       "      <td>11.100000</td>\n",
       "      <td>17.2</td>\n",
       "      <td>24.2875</td>\n",
       "      <td>37.2</td>\n",
       "      <td>1826.0</td>\n",
       "      <td>57.499762</td>\n",
       "      <td>...</td>\n",
       "      <td>-121.4944</td>\n",
       "      <td>-121.4944</td>\n",
       "      <td>1826.0</td>\n",
       "      <td>62.611108</td>\n",
       "      <td>14.251784</td>\n",
       "      <td>34.137048</td>\n",
       "      <td>50.387303</td>\n",
       "      <td>61.627122</td>\n",
       "      <td>74.881080</td>\n",
       "      <td>97.536384</td>\n",
       "    </tr>\n",
       "    <tr>\n",
       "      <th>20</th>\n",
       "      <td>1826.0</td>\n",
       "      <td>16.094789</td>\n",
       "      <td>6.868590</td>\n",
       "      <td>2.80</td>\n",
       "      <td>10.000000</td>\n",
       "      <td>15.6</td>\n",
       "      <td>21.7000</td>\n",
       "      <td>33.9</td>\n",
       "      <td>1826.0</td>\n",
       "      <td>62.954195</td>\n",
       "      <td>...</td>\n",
       "      <td>-121.4944</td>\n",
       "      <td>-121.4944</td>\n",
       "      <td>1826.0</td>\n",
       "      <td>59.674016</td>\n",
       "      <td>12.812233</td>\n",
       "      <td>33.900960</td>\n",
       "      <td>48.758321</td>\n",
       "      <td>59.104119</td>\n",
       "      <td>70.362705</td>\n",
       "      <td>92.951533</td>\n",
       "    </tr>\n",
       "    <tr>\n",
       "      <th>21</th>\n",
       "      <td>1825.0</td>\n",
       "      <td>14.895556</td>\n",
       "      <td>6.279068</td>\n",
       "      <td>1.70</td>\n",
       "      <td>10.000000</td>\n",
       "      <td>14.4</td>\n",
       "      <td>20.0000</td>\n",
       "      <td>32.2</td>\n",
       "      <td>1825.0</td>\n",
       "      <td>67.018075</td>\n",
       "      <td>...</td>\n",
       "      <td>-121.4944</td>\n",
       "      <td>-121.4944</td>\n",
       "      <td>1825.0</td>\n",
       "      <td>57.526372</td>\n",
       "      <td>11.795031</td>\n",
       "      <td>32.044611</td>\n",
       "      <td>47.917076</td>\n",
       "      <td>57.083164</td>\n",
       "      <td>67.078277</td>\n",
       "      <td>90.842355</td>\n",
       "    </tr>\n",
       "    <tr>\n",
       "      <th>22</th>\n",
       "      <td>1826.0</td>\n",
       "      <td>13.963709</td>\n",
       "      <td>5.886068</td>\n",
       "      <td>0.60</td>\n",
       "      <td>9.400000</td>\n",
       "      <td>13.9</td>\n",
       "      <td>18.9000</td>\n",
       "      <td>31.1</td>\n",
       "      <td>1826.0</td>\n",
       "      <td>70.362735</td>\n",
       "      <td>...</td>\n",
       "      <td>-121.4944</td>\n",
       "      <td>-121.4944</td>\n",
       "      <td>1826.0</td>\n",
       "      <td>55.852149</td>\n",
       "      <td>11.115393</td>\n",
       "      <td>29.212381</td>\n",
       "      <td>47.010758</td>\n",
       "      <td>55.566641</td>\n",
       "      <td>64.669409</td>\n",
       "      <td>87.645441</td>\n",
       "    </tr>\n",
       "    <tr>\n",
       "      <th>23</th>\n",
       "      <td>1824.0</td>\n",
       "      <td>13.222719</td>\n",
       "      <td>5.651474</td>\n",
       "      <td>0.60</td>\n",
       "      <td>8.900000</td>\n",
       "      <td>13.3</td>\n",
       "      <td>17.8000</td>\n",
       "      <td>30.6</td>\n",
       "      <td>1824.0</td>\n",
       "      <td>73.006338</td>\n",
       "      <td>...</td>\n",
       "      <td>-121.4944</td>\n",
       "      <td>-121.4944</td>\n",
       "      <td>1824.0</td>\n",
       "      <td>54.511630</td>\n",
       "      <td>10.709392</td>\n",
       "      <td>29.212381</td>\n",
       "      <td>46.130406</td>\n",
       "      <td>54.373000</td>\n",
       "      <td>63.101917</td>\n",
       "      <td>86.438084</td>\n",
       "    </tr>\n",
       "  </tbody>\n",
       "</table>\n",
       "<p>24 rows × 40 columns</p>\n",
       "</div>"
      ],
      "text/plain": [
       "              t_out                                                       \\\n",
       "              count       mean       std   min        25%   50%      75%   \n",
       "hour_of_day                                                                \n",
       "0            1823.0  12.639309  5.501424  0.00   8.300000  12.8  17.2000   \n",
       "1            1830.0  12.121960  5.398299 -0.60   7.808333  12.2  16.7000   \n",
       "2            1820.0  11.689806  5.327405 -1.70   7.800000  11.7  16.1000   \n",
       "3            1825.0  11.306662  5.222860 -1.10   7.200000  11.7  15.6000   \n",
       "4            1826.0  10.930413  5.161620 -2.20   7.200000  11.1  15.0000   \n",
       "5            1826.0  10.608296  5.094900 -2.80   6.700000  11.1  14.4000   \n",
       "6            1825.0  10.631191  5.294510 -2.80   6.700000  11.1  14.4000   \n",
       "7            1821.0  11.795610  5.562392 -1.10   7.800000  12.2  16.1000   \n",
       "8            1820.0  14.053594  5.561526  0.00   9.400000  13.9  18.3000   \n",
       "9            1819.0  16.211946  5.928145  1.10  11.100000  16.1  21.1000   \n",
       "10           1823.0  18.248105  6.390893  1.10  12.800000  18.3  23.3000   \n",
       "11           1823.0  20.050404  6.888543  1.95  14.400000  20.0  25.6000   \n",
       "12           1825.0  21.562818  7.379844  2.50  15.000000  21.7  27.8000   \n",
       "13           1825.0  22.690488  7.830675  3.90  16.100000  22.8  29.4000   \n",
       "14           1825.0  23.427902  8.226630  4.40  16.100000  23.3  30.6000   \n",
       "15           1825.0  23.625263  8.578195  4.40  16.100000  23.9  31.1000   \n",
       "16           1826.0  23.026760  9.001132  4.40  14.400000  22.8  30.6000   \n",
       "17           1824.0  21.730372  9.182819  4.20  13.300000  21.7  29.7750   \n",
       "18           1826.0  19.835509  8.734167  3.60  11.800000  19.4  27.2000   \n",
       "19           1826.0  17.781481  7.758794  2.80  11.100000  17.2  24.2875   \n",
       "20           1826.0  16.094789  6.868590  2.80  10.000000  15.6  21.7000   \n",
       "21           1825.0  14.895556  6.279068  1.70  10.000000  14.4  20.0000   \n",
       "22           1826.0  13.963709  5.886068  0.60   9.400000  13.9  18.9000   \n",
       "23           1824.0  13.222719  5.651474  0.60   8.900000  13.3  17.8000   \n",
       "\n",
       "                   rh_out             ...      long           heat_index  \\\n",
       "              max   count       mean  ...       75%       max      count   \n",
       "hour_of_day                           ...                                  \n",
       "0            27.8  1823.0  75.008723  ... -121.4944 -121.4944     1823.0   \n",
       "1            27.8  1830.0  76.928191  ... -121.4944 -121.4944     1830.0   \n",
       "2            27.8  1820.0  78.436096  ... -121.4944 -121.4944     1820.0   \n",
       "3            26.7  1825.0  79.739989  ... -121.4944 -121.4944     1825.0   \n",
       "4            27.2  1826.0  81.165973  ... -121.4944 -121.4944     1826.0   \n",
       "5            28.6  1826.0  82.252462  ... -121.4944 -121.4944     1826.0   \n",
       "6            31.1  1825.0  82.246645  ... -121.4944 -121.4944     1825.0   \n",
       "7            30.0  1821.0  78.897990  ... -121.4944 -121.4944     1821.0   \n",
       "8            31.7  1820.0  70.982062  ... -121.4944 -121.4944     1820.0   \n",
       "9            36.1  1819.0  63.094062  ... -121.4944 -121.4944     1819.0   \n",
       "10           37.2  1823.0  56.181166  ... -121.4944 -121.4944     1823.0   \n",
       "11           40.0  1823.0  50.426382  ... -121.4944 -121.4944     1823.0   \n",
       "12           42.2  1825.0  45.695526  ... -121.4944 -121.4944     1825.0   \n",
       "13           43.3  1825.0  42.389373  ... -121.4944 -121.4944     1825.0   \n",
       "14           44.4  1824.0  40.180234  ... -121.4944 -121.4944     1824.0   \n",
       "15           45.6  1825.0  39.495685  ... -121.4944 -121.4944     1825.0   \n",
       "16           45.0  1823.0  41.362056  ... -121.4944 -121.4944     1823.0   \n",
       "17           45.0  1824.0  45.468056  ... -121.4944 -121.4944     1824.0   \n",
       "18           41.7  1826.0  51.254073  ... -121.4944 -121.4944     1826.0   \n",
       "19           37.2  1826.0  57.499762  ... -121.4944 -121.4944     1826.0   \n",
       "20           33.9  1826.0  62.954195  ... -121.4944 -121.4944     1826.0   \n",
       "21           32.2  1825.0  67.018075  ... -121.4944 -121.4944     1825.0   \n",
       "22           31.1  1826.0  70.362735  ... -121.4944 -121.4944     1826.0   \n",
       "23           30.6  1824.0  73.006338  ... -121.4944 -121.4944     1824.0   \n",
       "\n",
       "                                                                               \\\n",
       "                  mean        std        min        25%        50%        75%   \n",
       "hour_of_day                                                                     \n",
       "0            53.453185  10.469219  28.161549  45.295230  53.378269  62.079395   \n",
       "1            52.517057  10.298328  27.117363  44.636274  52.438868  61.012764   \n",
       "2            51.731880  10.188212  25.059517  43.944348  51.972450  60.181867   \n",
       "3            51.035045  10.019696  26.413894  43.371597  51.433815  59.300000   \n",
       "4            50.357037   9.933577  24.542705  43.037537  51.057645  58.397674   \n",
       "5            49.769836   9.830066  23.351486  42.493108  50.450255  57.646262   \n",
       "6            49.814160  10.201209  23.351486  42.350971  50.405558  57.651597   \n",
       "7            51.963060  10.625456  26.876131  43.944348  52.315368  60.436379   \n",
       "8            56.055779  10.528820  29.600000  47.627326  55.808086  64.445902   \n",
       "9            59.938006  11.139229  31.778000  50.722572  59.718902  68.992496   \n",
       "10           63.584789  11.897335  31.778000  53.486645  63.274416  73.549789   \n",
       "11           66.747017  12.653868  33.379785  55.923092  66.880048  77.864303   \n",
       "12           69.298636  13.341649  34.372074  57.814301  69.731898  81.171489   \n",
       "13           71.166441  13.986042  36.975646  59.301861  71.544641  83.044025   \n",
       "14           72.328442  14.551581  37.966945  59.449096  73.083491  84.501912   \n",
       "15           72.581118  15.086460  37.966945  59.261439  73.451835  85.154346   \n",
       "16           71.439379  15.808710  37.966945  56.518187  72.172189  84.980451   \n",
       "17           69.253752  16.246588  37.585683  54.169381  69.576047  83.423820   \n",
       "18           66.085182  15.698238  36.192804  52.085526  65.340205  80.299639   \n",
       "19           62.611108  14.251784  34.137048  50.387303  61.627122  74.881080   \n",
       "20           59.674016  12.812233  33.900960  48.758321  59.104119  70.362705   \n",
       "21           57.526372  11.795031  32.044611  47.917076  57.083164  67.078277   \n",
       "22           55.852149  11.115393  29.212381  47.010758  55.566641  64.669409   \n",
       "23           54.511630  10.709392  29.212381  46.130406  54.373000  63.101917   \n",
       "\n",
       "                         \n",
       "                    max  \n",
       "hour_of_day              \n",
       "0             84.884468  \n",
       "1             81.784323  \n",
       "2             80.641743  \n",
       "3             79.483736  \n",
       "4             80.716985  \n",
       "5             82.468784  \n",
       "6             85.760653  \n",
       "7             84.461601  \n",
       "8             87.535245  \n",
       "9             95.150866  \n",
       "10            95.859071  \n",
       "11           101.332897  \n",
       "12           104.971833  \n",
       "13           107.285525  \n",
       "14           108.756357  \n",
       "15           109.749918  \n",
       "16           109.009694  \n",
       "17           108.756357  \n",
       "18           102.955485  \n",
       "19            97.536384  \n",
       "20            92.951533  \n",
       "21            90.842355  \n",
       "22            87.645441  \n",
       "23            86.438084  \n",
       "\n",
       "[24 rows x 40 columns]"
      ]
     },
     "execution_count": 33,
     "metadata": {},
     "output_type": "execute_result"
    }
   ],
   "source": [
    "series.groupby('hour_of_day').describe()"
   ]
  },
  {
   "cell_type": "code",
   "execution_count": 34,
   "metadata": {},
   "outputs": [
    {
     "name": "stdout",
     "output_type": "stream",
     "text": [
      "0.0025639469168663473\n",
      "0.0036237565397364865\n"
     ]
    }
   ],
   "source": [
    "w1series = series[series['hour_of_day'].between(10, 14)]\n",
    "w1series = w1series['heat_index'].values\n",
    "hist1_wout = np.histogram(w1series[np.isfinite(w1series)], bins=100)\n",
    "w1out_dist = scipy.stats.rv_histogram(hist1_wout)\n",
    "print(w1out_dist.pdf(98))\n",
    "\n",
    "w2series = series[series['hour_of_day'].between(15, 19)]\n",
    "w2series = w2series['heat_index'].values\n",
    "hist2_wout = np.histogram(w2series[np.isfinite(w2series)], bins=100)\n",
    "w2out_dist = scipy.stats.rv_histogram(hist2_wout)\n",
    "print(w2out_dist.pdf(98))"
   ]
  },
  {
   "cell_type": "code",
   "execution_count": 35,
   "metadata": {},
   "outputs": [
    {
     "data": {
      "text/plain": [
       "0.02218416693589111"
      ]
     },
     "execution_count": 35,
     "metadata": {},
     "output_type": "execute_result"
    }
   ],
   "source": [
    "p_x = scipy.stats.norm(90, 5)\n",
    "p_x.pdf(98)"
   ]
  },
  {
   "cell_type": "code",
   "execution_count": 36,
   "metadata": {},
   "outputs": [
    {
     "name": "stderr",
     "output_type": "stream",
     "text": [
      "<ipython-input-36-baecacd68240>:12: UserWarning: Matplotlib is currently using module://ipykernel.pylab.backend_inline, which is a non-GUI backend, so cannot show the figure.\n",
      "  fig.show()\n"
     ]
    },
    {
     "data": {
      "image/png": "[encoded data removed]",
      "text/plain": [
       "<Figure size 432x288 with 1 Axes>"
      ]
     },
     "metadata": {
      "needs_background": "light"
     },
     "output_type": "display_data"
    }
   ],
   "source": [
    "X1 = np.linspace(20, 110, 1000)\n",
    "X2 = np.linspace(60, 110, 1000)\n",
    "fig, ax = plt.subplots()\n",
    "ax.hist(w1series, density=True, bins=100, alpha = 0.5)\n",
    "ax.hist(w2series, density=True, bins=100, alpha = 0.5)\n",
    "ax.plot(X1, w1out_dist.pdf(X1), label='Heat index (10AM - 2PM) PDF')\n",
    "ax.plot(X1, w2out_dist.pdf(X1), label='Heat index (3PM - 7PM) PDF')\n",
    "ax.plot(X2, p_x.pdf(X2), label='proposed PDF')\n",
    "ax.set_xlabel('Heat wave index')\n",
    "ax.set_ylabel('Probability')\n",
    "ax.legend()\n",
    "fig.show()"
   ]
  },
  {
   "cell_type": "markdown",
   "metadata": {},
   "source": [
    "# Building Energy Profile"
   ]
  },
  {
   "cell_type": "code",
   "execution_count": 37,
   "metadata": {},
   "outputs": [],
   "source": [
    "data = pd.read_csv(\"./building_energy/building_energy.csv\", compression='gzip')\n",
    "data['w_out'] = series['heat_index']\n",
    "data['time'] = pd.to_datetime(data['time'])\n",
    "data['day_of_week'] = data['time'].dt.day_of_week\n",
    "data['hour'] = data['time'].dt.hour\n",
    "data['time_of_week'] = data['hour'] + data['day_of_week']*24\n",
    "data['w_out'] = data['w_out'].interpolate()"
   ]
  },
  {
   "cell_type": "code",
   "execution_count": 38,
   "metadata": {},
   "outputs": [],
   "source": [
    "X = data[['w_out', 'time_of_week']].values\n",
    "y = data['towt']"
   ]
  },
  {
   "cell_type": "code",
   "execution_count": 39,
   "metadata": {},
   "outputs": [
    {
     "name": "stderr",
     "output_type": "stream",
     "text": [
      "/Users/Bird/miniforge3/envs/env_tensorflow/lib/python3.9/site-packages/sklearn/linear_model/_base.py:141: FutureWarning: 'normalize' was deprecated in version 1.0 and will be removed in 1.2.\n",
      "If you wish to scale the data, use Pipeline with a StandardScaler in a preprocessing stage. To reproduce the previous behavior:\n",
      "\n",
      "from sklearn.pipeline import make_pipeline\n",
      "\n",
      "model = make_pipeline(StandardScaler(with_mean=False), LinearRegression())\n",
      "\n",
      "If you wish to pass a sample_weight parameter, you need to pass it as a fit parameter to each step of the pipeline as follows:\n",
      "\n",
      "kwargs = {s[0] + '__sample_weight': sample_weight for s in model.steps}\n",
      "model.fit(X, y, **kwargs)\n",
      "\n",
      "\n",
      "  warnings.warn(\n"
     ]
    },
    {
     "data": {
      "text/plain": [
       "LinearRegression(normalize=True)"
      ]
     },
     "execution_count": 39,
     "metadata": {},
     "output_type": "execute_result"
    }
   ],
   "source": [
    "from sklearn import linear_model\n",
    "model = linear_model.LinearRegression(normalize = True)\n",
    "model.fit(X, y)"
   ]
  },
  {
   "cell_type": "code",
   "execution_count": 40,
   "metadata": {},
   "outputs": [
    {
     "name": "stdout",
     "output_type": "stream",
     "text": [
      "coef=  [ 1.27970652 -0.02117052]\n",
      "intercept=  -6.885072481859581\n"
     ]
    }
   ],
   "source": [
    "coef = model.coef_\n",
    "intercept = model.intercept_\n",
    "print('coef= ', coef)\n",
    "print('intercept= ', intercept)"
   ]
  },
  {
   "cell_type": "code",
   "execution_count": 41,
   "metadata": {},
   "outputs": [
    {
     "data": {
      "text/plain": [
       "<matplotlib.legend.Legend at 0x172803370>"
      ]
     },
     "execution_count": 41,
     "metadata": {},
     "output_type": "execute_result"
    },
    {
     "data": {
      "image/png": "[encoded data removed]",
      "text/plain": [
       "<Figure size 576x576 with 1 Axes>"
      ]
     },
     "metadata": {
      "needs_background": "light"
     },
     "output_type": "display_data"
    }
   ],
   "source": [
    "plt.figure(figsize=[8, 8])\n",
    "plt.scatter(y, model.predict(X), alpha = 0.7)\n",
    "plt.plot(np.linspace(0, 150, 100), np.linspace(0, 150, 100), 'r', label = 'y = x line')\n",
    "plt.xlim(0, 150)\n",
    "plt.ylim(0, 150)\n",
    "plt.xlabel('True energy measurement kW')\n",
    "plt.ylabel('Predicted energy consumption kW')\n",
    "plt.title(\"Linear regression model on building energy\")\n",
    "plt.legend()"
   ]
  },
  {
   "cell_type": "code",
   "execution_count": 42,
   "metadata": {},
   "outputs": [
    {
     "name": "stderr",
     "output_type": "stream",
     "text": [
      "<ipython-input-42-af871bd195ff>:16: UserWarning: Matplotlib is currently using module://ipykernel.pylab.backend_inline, which is a non-GUI backend, so cannot show the figure.\n",
      "  fig.show()\n"
     ]
    },
    {
     "data": {
      "image/png": "[encoded data removed]",
      "text/plain": [
       "<Figure size 432x288 with 1 Axes>"
      ]
     },
     "metadata": {
      "needs_background": "light"
     },
     "output_type": "display_data"
    }
   ],
   "source": [
    "# Fit building energy distribution\n",
    "energy_series = data['towt']\n",
    "hist = np.histogram(energy_series[np.isfinite(energy_series)], bins=100)\n",
    "build_dist = scipy.stats.rv_histogram(hist)\n",
    "\n",
    "# Visualize building energy and EV power distribution\n",
    "X1 = np.linspace(0, 150, 1000)\n",
    "X2 = np.linspace(0, 40, 1000)\n",
    "fig, ax = plt.subplots()\n",
    "ax.hist(energy_series, density=True, bins=100)\n",
    "ax.plot(X1, build_dist.pdf(X1), label='True PDF')\n",
    "ax.set_xlabel('Energy consumption kW')\n",
    "ax.set_ylabel('Probability')\n",
    "ax.set_title('Building energy consumption density plot')\n",
    "ax.legend()\n",
    "fig.show()"
   ]
  },
  {
   "cell_type": "markdown",
   "metadata": {},
   "source": [
    "# EV Charging"
   ]
  },
  {
   "cell_type": "code",
   "execution_count": 43,
   "metadata": {},
   "outputs": [
    {
     "data": {
      "text/plain": [
       "0.001752830049356854"
      ]
     },
     "execution_count": 43,
     "metadata": {},
     "output_type": "execute_result"
    }
   ],
   "source": [
    "# Assume EV SOC\n",
    "SOC_x = scipy.stats.norm(50, 10)\n",
    "SOC_x.pdf(25)"
   ]
  },
  {
   "cell_type": "code",
   "execution_count": 44,
   "metadata": {},
   "outputs": [],
   "source": [
    "# define function EV\n",
    "def EV_status(SOC, DR):\n",
    "    \"\"\"\n",
    "    This is a function defined to simulate EV charging and discharging process\n",
    "\n",
    "    Args:\n",
    "        SOC: EV level of SOC (array)\n",
    "        DR: weather DR is activated\n",
    "\n",
    "    Returns:\n",
    "        EV: Total power output from EV charging/discharging simulation (negative: net EV discharging)\n",
    "        SOC_nex: EV level of SOC after the hour (array)\n",
    "    \"\"\"\n",
    "    EV = 0\n",
    "    SOC_next = []\n",
    "    if DR == True:\n",
    "        for i in SOC:\n",
    "            if i > 50:\n",
    "                # Assume discharging rate 2kW/hr\n",
    "                EV = EV - 2\n",
    "                SOC_next.append(i - 1)\n",
    "            else:\n",
    "                EV = 0\n",
    "    else:\n",
    "        for i in SOC:\n",
    "            # Assume charging rate 5kW/hr\n",
    "            EV = EV + 5\n",
    "            SOC_next.append(i + 5)\n",
    "\n",
    "    return EV, SOC_next"
   ]
  },
  {
   "cell_type": "code",
   "execution_count": 45,
   "metadata": {},
   "outputs": [],
   "source": [
    "# define function f(x)\n",
    "def process(X, EV, DR, curtail = 0.15):\n",
    "    \"\"\"\n",
    "    This is a function defined to simulate the functions (or actions) after the DR events\n",
    "\n",
    "    Args:\n",
    "        DR: weather DR is activated\n",
    "        X: energy model prediction input (time_of_week, t_out)\n",
    "        EV: EV charging\n",
    "        curtail: expected curtailment level (default set as 15%)\n",
    "    \n",
    "    Returns:\n",
    "        total: the total energy consumption of EV and building\n",
    "        residual: Remaining energy curtailment load after combining EV action\n",
    "    \"\"\"\n",
    "    build_energy = model.predict(X)\n",
    "\n",
    "    if DR == True:\n",
    "        curtailment = build_energy * curtail \n",
    "        total = build_energy + EV\n",
    "        residual = curtailment + EV\n",
    "        return total, residual\n",
    "    else:\n",
    "        total = build_energy + EV\n",
    "\n",
    "        # Residual = 0 also indicates no DR event\n",
    "        residual = 0\n",
    "        return total, residual\n",
    "\n"
   ]
  },
  {
   "cell_type": "markdown",
   "metadata": {},
   "source": [
    "# Simulation on EV and Building"
   ]
  },
  {
   "cell_type": "code",
   "execution_count": 46,
   "metadata": {},
   "outputs": [],
   "source": [
    "total_energy = []\n",
    "residual_energy = []\n",
    "for i in range(1000):\n",
    "    condition = False\n",
    "    total = []\n",
    "    residual = []\n",
    "\n",
    "    # Assume 5 EV\n",
    "    SOC_next = SOC_x.rvs(size = 5)\n",
    "\n",
    "    # 10AM - 2PM DR simulation on EV and building\n",
    "    for j in range(10, 14):\n",
    "        w1_out = w1out_dist.rvs(size = 1)[0]\n",
    "        X = [[w1_out, j]]\n",
    "\n",
    "        # threshold set as heat wave index >= 95\n",
    "        if w1_out >= 95:\n",
    "            condition = True\n",
    "\n",
    "        EV, SOC_next = EV_status(SOC_next, condition)\n",
    "        total_temp, residual_temp = process(X, EV, condition)\n",
    "            \n",
    "        total.append(total_temp)\n",
    "        residual.append(residual_temp)\n",
    "\n",
    "    # Reset DR condition\n",
    "    condition = False\n",
    "    \n",
    "    # 3PM - 7PM DR simulation on EV and building\n",
    "    for j in range(15, 19):\n",
    "        w2_out = w1out_dist.rvs(size = 1)[0]\n",
    "        X = [[w2_out, j]]\n",
    "\n",
    "        # threshold set as heat wave index >= 95\n",
    "        if w2_out >= 95:\n",
    "            condition = True\n",
    "\n",
    "        EV, SOC_next = EV_status(SOC_next, condition)\n",
    "        total_temp, residual_temp = process(X, EV, condition)\n",
    "            \n",
    "        total.append(total_temp)\n",
    "        residual.append(residual_temp)\n",
    "    \n",
    "    total_energy.append(total)\n",
    "    residual_energy.append(residual)\n"
   ]
  },
  {
   "cell_type": "code",
   "execution_count": 47,
   "metadata": {},
   "outputs": [],
   "source": [
    "# residual_energy"
   ]
  },
  {
   "cell_type": "markdown",
   "metadata": {},
   "source": [
    "# Sequential Monte Carlo Simulation"
   ]
  },
  {
   "cell_type": "code",
   "execution_count": 89,
   "metadata": {},
   "outputs": [],
   "source": [
    "# Assuming EV charging distribution\n",
    "from scipy.stats import uniform\n",
    "from scipy.stats import norm\n",
    "\n",
    "EV_charging = norm(50,10)\n",
    "EV_discharge = norm(-30, 5)"
   ]
  },
  {
   "cell_type": "code",
   "execution_count": 90,
   "metadata": {},
   "outputs": [],
   "source": [
    "class CurtailmentEstimateModel():\n",
    "    '''\n",
    "    Defines the model with 1 free params (Curtailment ratio)\n",
    "    '''\n",
    "\n",
    "    def __init__(self, EVcharge_dist, EVdischarge_dist):\n",
    "\n",
    "        self.EV_charge = EVcharge_dist\n",
    "        self.EV_discharge = EVdischarge_dist\n",
    "    \n",
    "    def evaluate_EV_BiCharging(self, params):\n",
    "        \n",
    "        results = []\n",
    "        for p in params:\n",
    "            E = p\n",
    "            result = E + self.EV_charge.rvs(size = 1) + self.EV_discharge.rvs(size = 1) \n",
    "            \n",
    "            results.append(result)\n",
    "        return np.array(results)\n",
    "    \n",
    "    def evaluate_EV_Charging(self, params):\n",
    "        \n",
    "        results = []\n",
    "        for p in params:\n",
    "            E = p\n",
    "            result = E + self.EV_charge.rvs(size = 1) \n",
    "            \n",
    "            results.append(result)\n",
    "        return np.array(results)\n",
    "    \n",
    "    def evaluate(self, params):\n",
    "        results = []\n",
    "        for p in params:\n",
    "            E = p\n",
    "            result = E\n",
    "            results.append(result)\n",
    "\n",
    "        return np.array(results)"
   ]
  },
  {
   "cell_type": "code",
   "execution_count": 91,
   "metadata": {},
   "outputs": [
    {
     "name": "stderr",
     "output_type": "stream",
     "text": [
      "\n",
      "\n",
      "0.00%|          | phi: 0.00000/1.0 [00:00<?\u001b[A\u001b[A\n",
      "\n",
      "[ mutation ratio: n/a: : 0.00%|          | phi: 0.00000/1.0 [00:00<?\u001b[A\u001b[A\n",
      "\n",
      "[ mutation ratio: 0.992: : 0.00%|          | phi: 0.00000/1.0 [00:00<?\u001b[A\u001b[A\n",
      "\n",
      "[ mutation ratio: 0.996: : 0.02%|          | phi: 0.00017/1.0 [00:00<09:38\u001b[A\u001b[A\n",
      "\n",
      "[ mutation ratio: 0.998: : 0.06%|          | phi: 0.00056/1.0 [00:00<04:10\u001b[A\u001b[A\n",
      "\n",
      "[ mutation ratio: 0.998: : 0.16%|          | phi: 0.00161/1.0 [00:00<01:27\u001b[A\u001b[A\n",
      "\n",
      "[ mutation ratio: 0.998: : 0.16%|          | phi: 0.00161/1.0 [00:00<01:27\u001b[A\u001b[A\n",
      "\n",
      "[ mutation ratio: 0.998: : 0.43%|          | phi: 0.00431/1.0 [00:00<01:27\u001b[A\u001b[A\n",
      "\n",
      "[ mutation ratio: 0.994: : 1.16%|          | phi: 0.01161/1.0 [00:00<01:26\u001b[A\u001b[A\n",
      "\n",
      "[ mutation ratio: 0.994: : 2.84%|▎         | phi: 0.02841/1.0 [00:00<00:07\u001b[A\u001b[A\n",
      "\n",
      "[ mutation ratio: 0.99: : 2.84%|▎         | phi: 0.02841/1.0 [00:00<00:07 \u001b[A\u001b[A\n",
      "\n",
      "[ mutation ratio: 0.998: : 6.81%|▋         | phi: 0.06810/1.0 [00:00<00:07\u001b[A\u001b[A\n",
      "\n",
      "[ mutation ratio: 0.996: : 15.38%|█▌        | phi: 0.15385/1.0 [00:00<00:06\u001b[A\u001b[A\n",
      "\n",
      "[ mutation ratio: 0.996: : 23.97%|██▍       | phi: 0.23967/1.0 [00:00<00:00\u001b[A\u001b[A\n",
      "\n",
      "[ mutation ratio: 0.996: : 23.97%|██▍       | phi: 0.23967/1.0 [00:00<00:00\u001b[A\u001b[A\n",
      "\n",
      "[ mutation ratio: 0.99: : 32.55%|███▎      | phi: 0.32549/1.0 [00:00<00:00 \u001b[A\u001b[A\n",
      "\n",
      "[ mutation ratio: 0.998: : 41.12%|████      | phi: 0.41124/1.0 [00:00<00:00\u001b[A\u001b[A\n",
      "\n",
      "[ mutation ratio: 0.998: : 49.71%|████▉     | phi: 0.49706/1.0 [00:00<00:00\u001b[A\u001b[A\n",
      "\n",
      "[ mutation ratio: 0.996: : 49.71%|████▉     | phi: 0.49706/1.0 [00:00<00:00\u001b[A\u001b[A\n",
      "\n",
      "[ mutation ratio: 0.99: : 58.28%|█████▊    | phi: 0.58282/1.0 [00:00<00:00 \u001b[A\u001b[A\n",
      "\n",
      "[ mutation ratio: 0.996: : 66.86%|██████▋   | phi: 0.66857/1.0 [00:00<00:00\u001b[A\u001b[A\n",
      "\n",
      "[ mutation ratio: 0.996: : 75.43%|███████▌  | phi: 0.75433/1.0 [00:00<00:00\u001b[A\u001b[A\n",
      "\n",
      "[ mutation ratio: 0.998: : 75.43%|███████▌  | phi: 0.75433/1.0 [00:00<00:00\u001b[A\u001b[A\n",
      "\n",
      "[ mutation ratio: 0.996: : 84.01%|████████▍ | phi: 0.84009/1.0 [00:00<00:00\u001b[A\u001b[A\n",
      "\n",
      "[ mutation ratio: 0.998: : 92.58%|█████████▎| phi: 0.92585/1.0 [00:00<00:00\u001b[A\u001b[A\n",
      "\n",
      "[ mutation ratio: 0.998: : 100.00%|██████████| phi: 1.00000/1.0 [00:00<00:00\u001b[A\u001b[A\n",
      "[ mutation ratio: 0.808: : 0.12%|          | phi: 0.00122/1.0 [04:35<62:24:16\n",
      "[ mutation ratio: 0.804: : 4.51%|▍         | phi: 0.04511/1.0 [02:41<57:05\n"
     ]
    },
    {
     "name": "stdout",
     "output_type": "stream",
     "text": [
      "marginal log likelihood = -4345.83513860289\n",
      "parameter means = {'E': 67.36428874489968}\n"
     ]
    },
    {
     "data": {
      "image/png": "[encoded data removed]",
      "text/plain": [
       "<Figure size 232x180 with 3 Axes>"
      ]
     },
     "metadata": {
      "needs_background": "light"
     },
     "output_type": "display_data"
    },
    {
     "data": {
      "text/plain": [
       "<seaborn.axisgrid.PairGrid at 0x28ff58a60>"
      ]
     },
     "execution_count": 91,
     "metadata": {},
     "output_type": "execute_result"
    }
   ],
   "source": [
    "from smcpy.utils.plotter import plot_pairwise\n",
    "from smcpy import AdaptiveSampler as Sampler\n",
    "from smcpy import VectorMCMC, VectorMCMCKernel\n",
    "\n",
    "\n",
    "# Initialize model\n",
    "curtailment_model = CurtailmentEstimateModel(EV_charging, EV_discharge)\n",
    "\n",
    "# Load data\n",
    "std_dev = 25\n",
    "building_data = data['towt'].tolist()\n",
    "\n",
    "# Define prior distributions & MCMC kernel\n",
    "priors = [norm(60, 25)]\n",
    "vector_mcmc = VectorMCMC(curtailment_model.evaluate, building_data, priors, std_dev)\n",
    "mcmc_kernel = VectorMCMCKernel(vector_mcmc, param_order=('E'))\n",
    "\n",
    "# SMC sampling\n",
    "smc = Sampler(mcmc_kernel)\n",
    "step_list, mll_list = smc.sample(num_particles=500,\n",
    "                                 num_mcmc_samples=5)\n",
    "\n",
    "# Display results\n",
    "print(f'marginal log likelihood = {mll_list[-1]}')\n",
    "print(f'parameter means = {step_list[-1].compute_mean()}')\n",
    "\n",
    "plot_pairwise(step_list[-1].params, step_list[-1].weights, save=True,\n",
    "              param_names=['E'])"
   ]
  },
  {
   "cell_type": "code",
   "execution_count": 92,
   "metadata": {},
   "outputs": [
    {
     "name": "stderr",
     "output_type": "stream",
     "text": [
      "[ mutation ratio: 0.796: : 100.00%|██████████| phi: 1.00000/1.0 [00:08<00:00\n"
     ]
    },
    {
     "name": "stdout",
     "output_type": "stream",
     "text": [
      "marginal log likelihood = -4388.92686498017\n",
      "parameter means = {'E': 16.942163568714108}\n"
     ]
    },
    {
     "data": {
      "image/png": "[encoded data removed]",
      "text/plain": [
       "<Figure size 232x180 with 3 Axes>"
      ]
     },
     "metadata": {
      "needs_background": "light"
     },
     "output_type": "display_data"
    },
    {
     "data": {
      "text/plain": [
       "<seaborn.axisgrid.PairGrid at 0x28ff67d60>"
      ]
     },
     "execution_count": 92,
     "metadata": {},
     "output_type": "execute_result"
    }
   ],
   "source": [
    "from smcpy.utils.plotter import plot_pairwise\n",
    "from smcpy import AdaptiveSampler as Sampler\n",
    "from smcpy import VectorMCMC, VectorMCMCKernel\n",
    "\n",
    "\n",
    "# Initialize model\n",
    "curtailment_model = CurtailmentEstimateModel(EV_charging, EV_discharge)\n",
    "\n",
    "# Load data\n",
    "std_dev = 25\n",
    "building_data = data['towt'].tolist()\n",
    "\n",
    "# Define prior distributions & MCMC kernel\n",
    "priors = [norm(60, 25)]\n",
    "vector_mcmc = VectorMCMC(curtailment_model.evaluate_EV_Charging, building_data, priors, std_dev)\n",
    "mcmc_kernel = VectorMCMCKernel(vector_mcmc, param_order=('E'))\n",
    "\n",
    "# SMC sampling\n",
    "smc = Sampler(mcmc_kernel)\n",
    "step_list, mll_list = smc.sample(num_particles=500,\n",
    "                                 num_mcmc_samples=5)\n",
    "\n",
    "# Display results\n",
    "print(f'marginal log likelihood = {mll_list[-1]}')\n",
    "print(f'parameter means = {step_list[-1].compute_mean()}')\n",
    "\n",
    "plot_pairwise(step_list[-1].params, step_list[-1].weights, save=True,\n",
    "              param_names=['E'])"
   ]
  },
  {
   "cell_type": "code",
   "execution_count": 93,
   "metadata": {},
   "outputs": [
    {
     "name": "stderr",
     "output_type": "stream",
     "text": [
      "[ mutation ratio: 0.778: : 100.00%|██████████| phi: 1.00000/1.0 [00:15<00:00"
     ]
    },
    {
     "name": "stdout",
     "output_type": "stream",
     "text": [
      "marginal log likelihood = -4396.508819351477\n",
      "parameter means = {'E': 47.42250010992513}\n"
     ]
    },
    {
     "name": "stderr",
     "output_type": "stream",
     "text": [
      "\n"
     ]
    },
    {
     "data": {
      "image/png": "[encoded data removed]",
      "text/plain": [
       "<Figure size 232x180 with 3 Axes>"
      ]
     },
     "metadata": {
      "needs_background": "light"
     },
     "output_type": "display_data"
    },
    {
     "data": {
      "text/plain": [
       "<seaborn.axisgrid.PairGrid at 0x287ea3580>"
      ]
     },
     "execution_count": 93,
     "metadata": {},
     "output_type": "execute_result"
    }
   ],
   "source": [
    "# Initialize model\n",
    "state = 0\n",
    "curtailment_model = CurtailmentEstimateModel(EV_charging, EV_discharge)\n",
    "\n",
    "# Load data\n",
    "std_dev = 25\n",
    "building_data = data['towt'].tolist()\n",
    "\n",
    "# Define prior distributions & MCMC kernel\n",
    "priors = [norm(60, 10)]\n",
    "vector_mcmc = VectorMCMC(curtailment_model.evaluate_EV_BiCharging, building_data, priors, std_dev)\n",
    "mcmc_kernel = VectorMCMCKernel(vector_mcmc, param_order=('E'))\n",
    "\n",
    "# SMC sampling\n",
    "smc = Sampler(mcmc_kernel)\n",
    "step_list, mll_list = smc.sample(num_particles=500,\n",
    "                                 num_mcmc_samples=5)\n",
    "\n",
    "# Display results\n",
    "print(f'marginal log likelihood = {mll_list[-1]}')\n",
    "print(f'parameter means = {step_list[-1].compute_mean()}')\n",
    "\n",
    "plot_pairwise(step_list[-1].params, step_list[-1].weights, save=True,\n",
    "              param_names=['E'])"
   ]
  },
  {
   "cell_type": "code",
   "execution_count": 23,
   "metadata": {},
   "outputs": [
    {
     "data": {
      "text/plain": [
       "<AxesSubplot:>"
      ]
     },
     "execution_count": 23,
     "metadata": {},
     "output_type": "execute_result"
    },
    {
     "data": {
      "image/png": "[encoded data removed]",
      "text/plain": [
       "<Figure size 432x288 with 1 Axes>"
      ]
     },
     "metadata": {
      "needs_background": "light"
     },
     "output_type": "display_data"
    }
   ],
   "source": [
    "pd.read_csv('Example/noisy_data.txt').plot()"
   ]
  },
  {
   "cell_type": "code",
   "execution_count": 32,
   "metadata": {},
   "outputs": [
    {
     "data": {
      "text/plain": [
       "(22.18650189978103, 179.2346981642903, 24.87732535586826)"
      ]
     },
     "execution_count": 32,
     "metadata": {},
     "output_type": "execute_result"
    },
    {
     "data": {
      "image/png": "[encoded data removed]",
      "text/plain": [
       "<Figure size 432x288 with 1 Axes>"
      ]
     },
     "metadata": {
      "needs_background": "light"
     },
     "output_type": "display_data"
    }
   ],
   "source": [
    "import seaborn as sns\n",
    "\n",
    "sns.histplot(data['towt'])\n",
    "min(data['towt']), max(data['towt']), np.std(data['towt'])"
   ]
  },
  {
   "cell_type": "code",
   "execution_count": 28,
   "metadata": {},
   "outputs": [
    {
     "data": {
      "text/plain": [
       "67.36956596391505"
      ]
     },
     "execution_count": 28,
     "metadata": {},
     "output_type": "execute_result"
    }
   ],
   "source": [
    "data['towt'].mean()"
   ]
  },
  {
   "cell_type": "code",
   "execution_count": 39,
   "metadata": {},
   "outputs": [
    {
     "data": {
      "text/plain": [
       "<AxesSubplot:ylabel='Count'>"
      ]
     },
     "execution_count": 39,
     "metadata": {},
     "output_type": "execute_result"
    },
    {
     "data": {
      "image/png": "[encoded data removed]",
      "text/plain": [
       "<Figure size 432x288 with 1 Axes>"
      ]
     },
     "metadata": {
      "needs_background": "light"
     },
     "output_type": "display_data"
    }
   ],
   "source": [
    "sns.histplot(norm(85,20).rvs(size=1000))"
   ]
  },
  {
   "cell_type": "code",
   "execution_count": null,
   "metadata": {},
   "outputs": [],
   "source": []
  }
 ],
 "metadata": {
  "kernelspec": {
   "display_name": "IPython - tensorflow",
   "language": "python",
   "name": "env_tensorflow"
  },
  "language_info": {
   "codemirror_mode": {
    "name": "ipython",
    "version": 3
   },
   "file_extension": ".py",
   "mimetype": "text/x-python",
   "name": "python",
   "nbconvert_exporter": "python",
   "pygments_lexer": "ipython3",
   "version": "3.9.7"
  }
 },
 "nbformat": 4,
 "nbformat_minor": 4
}
